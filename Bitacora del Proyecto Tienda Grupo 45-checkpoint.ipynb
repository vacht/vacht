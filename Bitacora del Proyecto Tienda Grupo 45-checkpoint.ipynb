{
 "cells": [
  {
   "attachments": {
    "Diagrama_de_flujo.png": {
     "image/png": "[encoded data removed]"
    }
   },
   "cell_type": "markdown",
   "id": "aacae21f",
   "metadata": {},
   "source": [
    "# bitacora proyecto tienda\n",
    "\n",
    "## definicion del problema\n",
    "\n",
    "El cliente necesita en algoritma que pueda calcular si su negocio, o susu tiendas generan beneficios o perdidas. Tenemos acceso a los datos que maneja la tienda, tanto sus **ingresos**, como sus **gastos**.\n",
    "### Algoritmo\n",
    "\n",
    "*Inicio*\n",
    "1. Leer todos los ingresos\n",
    "2. Leer todos los gastos\n",
    "3. Si los Ingresos son mayores o iguales a los gastos\n",
    " - Calcular beneficios = Ingresos - Gastos\n",
    "4. Si los Gastos son mayores o iguales a los ingresos\n",
    " - calcular las perdidas = Gastos - Ingresos\n",
    "\n",
    "*Fin*\n",
    "\n",
    "### Diagrama de flujo\n",
    "![Diagrama_de_flujo.png](attachment:Diagrama_de_flujo.png)"
   ]
  },
  {
   "cell_type": "code",
   "execution_count": 5,
   "id": "3d3aea55",
   "metadata": {},
   "outputs": [],
   "source": [
    "x = 43\n",
    "x = x + 1"
   ]
  },
  {
   "cell_type": "code",
   "execution_count": 6,
   "id": "96dc7735",
   "metadata": {},
   "outputs": [
    {
     "name": "stdout",
     "output_type": "stream",
     "text": [
      "44\n"
     ]
    }
   ],
   "source": [
    "print(x)"
   ]
  },
  {
   "cell_type": "code",
   "execution_count": 8,
   "id": "050aa7ed",
   "metadata": {},
   "outputs": [],
   "source": [
    "var1 = 10\n",
    "var2 = 4\n",
    "var3 = 5.5\n",
    "var4 = 67"
   ]
  },
  {
   "cell_type": "code",
   "execution_count": 9,
   "id": "fc77d1ca",
   "metadata": {},
   "outputs": [
    {
     "name": "stdout",
     "output_type": "stream",
     "text": [
      "21.625\n"
     ]
    }
   ],
   "source": [
    "promedio = var1 + var2 + var3 + var4 \n",
    "resultado = promedio / 4\n",
    "print(resultado)"
   ]
  },
  {
   "cell_type": "code",
   "execution_count": null,
   "id": "073c652b",
   "metadata": {},
   "outputs": [],
   "source": []
  }
 ],
 "metadata": {
  "kernelspec": {
   "display_name": "Python 3.9.12 ('base')",
   "language": "python",
   "name": "python3"
  },
  "language_info": {
   "codemirror_mode": {
    "name": "ipython",
    "version": 3
   },
   "file_extension": ".py",
   "mimetype": "text/x-python",
   "name": "python",
   "nbconvert_exporter": "python",
   "pygments_lexer": "ipython3",
   "version": "3.9.12"
  },
  "vscode": {
   "interpreter": {
    "hash": "6018457a9cf31c4f12b198deda590ba24c2cc27a9da71629eaeb4f113d477133"
   }
  }
 },
 "nbformat": 4,
 "nbformat_minor": 5
}
