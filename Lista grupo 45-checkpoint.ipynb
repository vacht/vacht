{
 "cells": [
  {
   "cell_type": "code",
   "execution_count": 1,
   "id": "b55cac48",
   "metadata": {},
   "outputs": [
    {
     "name": "stdout",
     "output_type": "stream",
     "text": [
      "1\n",
      "2.5\n",
      "DevCode\n",
      "[5, 6]\n",
      "5\n",
      "6\n",
      "[2.5, 'DevCode']\n",
      "[2.5, 'DevCode', [5, 6], 4]\n",
      "[2.5, [5, 6]]\n"
     ]
    }
   ],
   "source": [
    "lista = [1, 2.5, 'DevCode', [5,6] ,4]\n",
    "print(lista[0])\n",
    "print(lista[1])\n",
    "print(lista[2])\n",
    "print(lista[3])\n",
    "print(lista[3][0])\n",
    "print(lista[3][1])\n",
    "print(lista[1:3])\n",
    "print(lista[1:6])\n",
    "print(lista[1:6:2])"
   ]
  },
  {
   "cell_type": "code",
   "execution_count": 2,
   "id": "5f89178b",
   "metadata": {},
   "outputs": [
    {
     "data": {
      "text/plain": [
       "[]"
      ]
     },
     "execution_count": 2,
     "metadata": {},
     "output_type": "execute_result"
    }
   ],
   "source": [
    "lista =[]\n",
    "lista"
   ]
  },
  {
   "cell_type": "code",
   "execution_count": 3,
   "id": "9544b5f6",
   "metadata": {},
   "outputs": [
    {
     "data": {
      "text/plain": [
       "['pepe', 25]"
      ]
     },
     "execution_count": 3,
     "metadata": {},
     "output_type": "execute_result"
    }
   ],
   "source": [
    "nombre = 'pepe'\n",
    "edad = 25\n",
    "listas = [nombre, edad]\n",
    "listas"
   ]
  },
  {
   "cell_type": "code",
   "execution_count": 4,
   "id": "1d487fea",
   "metadata": {},
   "outputs": [
    {
     "data": {
      "text/plain": [
       "['pepe', 25]"
      ]
     },
     "execution_count": 4,
     "metadata": {},
     "output_type": "execute_result"
    }
   ],
   "source": [
    "nombre = 'juan'\n",
    "listas"
   ]
  },
  {
   "cell_type": "code",
   "execution_count": 5,
   "id": "77f41354",
   "metadata": {},
   "outputs": [
    {
     "data": {
      "text/plain": [
       "[['Ana', 'Bernardo'], [22, 21]]"
      ]
     },
     "execution_count": 5,
     "metadata": {},
     "output_type": "execute_result"
    }
   ],
   "source": [
    "nombres = ['Ana', 'Bernardo']\n",
    "edades = [22, 21]\n",
    "lista = [nombres, edades]\n",
    "lista"
   ]
  },
  {
   "cell_type": "code",
   "execution_count": 6,
   "id": "f4ea5d41",
   "metadata": {},
   "outputs": [
    {
     "data": {
      "text/plain": [
       "[['Ana', 'Bernardo', 'Cristina'], [22, 21]]"
      ]
     },
     "execution_count": 6,
     "metadata": {},
     "output_type": "execute_result"
    }
   ],
   "source": [
    "nombres += ['Cristina']\n",
    "lista"
   ]
  },
  {
   "cell_type": "code",
   "execution_count": 7,
   "id": "4d336062",
   "metadata": {},
   "outputs": [
    {
     "data": {
      "text/plain": [
       "['pan', 'huevos', 100, 1234]"
      ]
     },
     "execution_count": 7,
     "metadata": {},
     "output_type": "execute_result"
    }
   ],
   "source": [
    "factura = ['pan', 'huevos', 100, 1234]\n",
    "factura"
   ]
  },
  {
   "cell_type": "code",
   "execution_count": 8,
   "id": "fb248892",
   "metadata": {},
   "outputs": [
    {
     "data": {
      "text/plain": [
       "'pan'"
      ]
     },
     "execution_count": 8,
     "metadata": {},
     "output_type": "execute_result"
    }
   ],
   "source": [
    "factura[0]"
   ]
  },
  {
   "cell_type": "code",
   "execution_count": 9,
   "id": "4374b88b",
   "metadata": {},
   "outputs": [
    {
     "data": {
      "text/plain": [
       "1234"
      ]
     },
     "execution_count": 9,
     "metadata": {},
     "output_type": "execute_result"
    }
   ],
   "source": [
    "factura[3]"
   ]
  },
  {
   "cell_type": "code",
   "execution_count": 10,
   "id": "c3ca4dcd",
   "metadata": {},
   "outputs": [
    {
     "data": {
      "text/plain": [
       "4"
      ]
     },
     "execution_count": 10,
     "metadata": {},
     "output_type": "execute_result"
    }
   ],
   "source": [
    "len(factura)"
   ]
  },
  {
   "cell_type": "code",
   "execution_count": 11,
   "id": "5c6f5b8f",
   "metadata": {},
   "outputs": [
    {
     "data": {
      "text/plain": [
       "3"
      ]
     },
     "execution_count": 11,
     "metadata": {},
     "output_type": "execute_result"
    }
   ],
   "source": [
    "len(factura)-1"
   ]
  },
  {
   "cell_type": "code",
   "execution_count": 12,
   "id": "cfcbe337",
   "metadata": {},
   "outputs": [
    {
     "data": {
      "text/plain": [
       "1234"
      ]
     },
     "execution_count": 12,
     "metadata": {},
     "output_type": "execute_result"
    }
   ],
   "source": [
    "factura[-1]"
   ]
  },
  {
   "cell_type": "code",
   "execution_count": 13,
   "id": "c0e0512f",
   "metadata": {},
   "outputs": [
    {
     "data": {
      "text/plain": [
       "'pan'"
      ]
     },
     "execution_count": 13,
     "metadata": {},
     "output_type": "execute_result"
    }
   ],
   "source": [
    "factura[-len(factura)]"
   ]
  },
  {
   "cell_type": "code",
   "execution_count": 14,
   "id": "5ae2214f",
   "metadata": {},
   "outputs": [
    {
     "data": {
      "text/plain": [
       "['pan', 'carne', 100, 1234]"
      ]
     },
     "execution_count": 14,
     "metadata": {},
     "output_type": "execute_result"
    }
   ],
   "source": [
    "factura[1] = 'carne'\n",
    "factura"
   ]
  },
  {
   "cell_type": "code",
   "execution_count": 15,
   "id": "e67f5df3",
   "metadata": {},
   "outputs": [
    {
     "data": {
      "text/plain": [
       "[2.5, 3.6, 4, 5]"
      ]
     },
     "execution_count": 15,
     "metadata": {},
     "output_type": "execute_result"
    }
   ],
   "source": [
    "versiones_plone = [2.5, 3.6, 4, 5]\n",
    "versiones_plone"
   ]
  },
  {
   "cell_type": "code",
   "execution_count": 16,
   "id": "a688ac4b",
   "metadata": {},
   "outputs": [
    {
     "data": {
      "text/plain": [
       "[2.5, 3.6, 4, 5, 6]"
      ]
     },
     "execution_count": 16,
     "metadata": {},
     "output_type": "execute_result"
    }
   ],
   "source": [
    "versiones_plone.append(6)\n",
    "versiones_plone"
   ]
  },
  {
   "cell_type": "code",
   "execution_count": 17,
   "id": "3bf5ec7c",
   "metadata": {},
   "outputs": [],
   "source": [
    "versiones_plone = [2.1, 2.5, 3.6, 4, 5, 6]"
   ]
  },
  {
   "cell_type": "code",
   "execution_count": 18,
   "id": "80ca2b79",
   "metadata": {},
   "outputs": [
    {
     "name": "stdout",
     "output_type": "stream",
     "text": [
      "6-> 1\n"
     ]
    }
   ],
   "source": [
    "print('6->', versiones_plone.count(6))"
   ]
  },
  {
   "cell_type": "code",
   "execution_count": 20,
   "id": "205bf9a7",
   "metadata": {},
   "outputs": [
    {
     "name": "stdout",
     "output_type": "stream",
     "text": [
      "5-> 1\n"
     ]
    }
   ],
   "source": [
    "print('5->', versiones_plone.count(5))"
   ]
  },
  {
   "cell_type": "code",
   "execution_count": 21,
   "id": "b629064c",
   "metadata": {},
   "outputs": [
    {
     "name": "stdout",
     "output_type": "stream",
     "text": [
      "2.5-> 1\n"
     ]
    }
   ],
   "source": [
    "print('2.5->', versiones_plone.count(2.5))"
   ]
  },
  {
   "cell_type": "code",
   "execution_count": 22,
   "id": "889e87b2",
   "metadata": {},
   "outputs": [
    {
     "data": {
      "text/plain": [
       "[2.1, 2.5, 3.6]"
      ]
     },
     "execution_count": 22,
     "metadata": {},
     "output_type": "execute_result"
    }
   ],
   "source": [
    "versiones_plone = [2.1, 2.5, 3.6]\n",
    "versiones_plone"
   ]
  },
  {
   "cell_type": "code",
   "execution_count": 25,
   "id": "149a184f",
   "metadata": {},
   "outputs": [
    {
     "data": {
      "text/plain": [
       "[2.1, 2.5, 3.6, 4]"
      ]
     },
     "execution_count": 25,
     "metadata": {},
     "output_type": "execute_result"
    }
   ],
   "source": [
    "versiones_plone.extend([4])\n",
    "versiones_plone"
   ]
  },
  {
   "cell_type": "code",
   "execution_count": 26,
   "id": "84d7616c",
   "metadata": {},
   "outputs": [
    {
     "data": {
      "text/plain": [
       "[2.1, 2.5, 3.6, 4, 5, 6]"
      ]
     },
     "execution_count": 26,
     "metadata": {},
     "output_type": "execute_result"
    }
   ],
   "source": [
    "versiones_plone.extend(range(5,7))\n",
    "versiones_plone"
   ]
  },
  {
   "cell_type": "code",
   "execution_count": 27,
   "id": "b9ae00d3",
   "metadata": {},
   "outputs": [
    {
     "name": "stdout",
     "output_type": "stream",
     "text": [
      "3\n"
     ]
    }
   ],
   "source": [
    "versiones_plone = [2.1, 2.5, 3.6, 4, 5, 6, 4]\n",
    "print(versiones_plone.index(4)) "
   ]
  },
  {
   "cell_type": "code",
   "execution_count": 28,
   "id": "11d0988e",
   "metadata": {},
   "outputs": [
    {
     "data": {
      "text/plain": [
       "3.6"
      ]
     },
     "execution_count": 28,
     "metadata": {},
     "output_type": "execute_result"
    }
   ],
   "source": [
    "versiones_plone = [2.1, 2.5, 3.6, 4, 5, 6, 4]\n",
    "versiones_plone[2]"
   ]
  },
  {
   "cell_type": "code",
   "execution_count": 29,
   "id": "4fac5e48",
   "metadata": {},
   "outputs": [
    {
     "name": "stdout",
     "output_type": "stream",
     "text": [
      "3\n"
     ]
    }
   ],
   "source": [
    "print(versiones_plone.index(4, 2))"
   ]
  },
  {
   "cell_type": "code",
   "execution_count": 30,
   "id": "4e20b474",
   "metadata": {},
   "outputs": [
    {
     "data": {
      "text/plain": [
       "4"
      ]
     },
     "execution_count": 30,
     "metadata": {},
     "output_type": "execute_result"
    }
   ],
   "source": [
    "versiones_plone[3]"
   ]
  },
  {
   "cell_type": "code",
   "execution_count": 31,
   "id": "ae1b5a6a",
   "metadata": {},
   "outputs": [
    {
     "name": "stdout",
     "output_type": "stream",
     "text": [
      "6\n"
     ]
    }
   ],
   "source": [
    "print(versiones_plone.index(4, 5))"
   ]
  },
  {
   "cell_type": "code",
   "execution_count": 32,
   "id": "a13ebe61",
   "metadata": {},
   "outputs": [
    {
     "data": {
      "text/plain": [
       "4"
      ]
     },
     "execution_count": 32,
     "metadata": {},
     "output_type": "execute_result"
    }
   ],
   "source": [
    "versiones_plone[6]"
   ]
  },
  {
   "cell_type": "code",
   "execution_count": 33,
   "id": "9f4af173",
   "metadata": {},
   "outputs": [],
   "source": [
    "versiones_plone = [2.1, 2.5, 3.6, 4, 5, 6, 4]"
   ]
  },
  {
   "cell_type": "code",
   "execution_count": 34,
   "id": "586158a0",
   "metadata": {},
   "outputs": [
    {
     "ename": "ValueError",
     "evalue": "9 is not in list",
     "output_type": "error",
     "traceback": [
      "\u001b[1;31m---------------------------------------------------------------------------\u001b[0m",
      "\u001b[1;31mValueError\u001b[0m                                Traceback (most recent call last)",
      "Input \u001b[1;32mIn [34]\u001b[0m, in \u001b[0;36m<cell line: 1>\u001b[1;34m()\u001b[0m\n\u001b[1;32m----> 1\u001b[0m \u001b[38;5;28mprint\u001b[39m(\u001b[43mversiones_plone\u001b[49m\u001b[38;5;241;43m.\u001b[39;49m\u001b[43mindex\u001b[49m\u001b[43m(\u001b[49m\u001b[38;5;241;43m9\u001b[39;49m\u001b[43m)\u001b[49m)\n",
      "\u001b[1;31mValueError\u001b[0m: 9 is not in list"
     ]
    }
   ],
   "source": [
    "print(versiones_plone.index(9))"
   ]
  },
  {
   "cell_type": "code",
   "execution_count": 35,
   "id": "ce791567",
   "metadata": {},
   "outputs": [
    {
     "name": "stdout",
     "output_type": "stream",
     "text": [
      "[2.1, 2.5, 3.6, 4, 5, 6]\n"
     ]
    }
   ],
   "source": [
    "versiones_plone = [2.1, 2.5, 3.6, 4, 5, 6]\n",
    "print(versiones_plone)"
   ]
  },
  {
   "cell_type": "code",
   "execution_count": 37,
   "id": "b1172d5a",
   "metadata": {},
   "outputs": [
    {
     "name": "stdout",
     "output_type": "stream",
     "text": [
      "6\n"
     ]
    }
   ],
   "source": [
    "versiones_plone = [2.1, 2.5, 3.6, 4, 5, 6]\n",
    "\n",
    "print(versiones_plone.pop())"
   ]
  },
  {
   "cell_type": "code",
   "execution_count": 38,
   "id": "31f15571",
   "metadata": {},
   "outputs": [
    {
     "name": "stdout",
     "output_type": "stream",
     "text": [
      "[2.1, 2.5, 3.6, 4, 5]\n"
     ]
    }
   ],
   "source": [
    "print(versiones_plone)"
   ]
  },
  {
   "cell_type": "code",
   "execution_count": 39,
   "id": "7f1b2f4d",
   "metadata": {},
   "outputs": [],
   "source": [
    "versiones_plone = [2.1, 2.5, 3.6, 4, 5, 6]"
   ]
  },
  {
   "cell_type": "code",
   "execution_count": 40,
   "id": "1a0dfb93",
   "metadata": {},
   "outputs": [
    {
     "name": "stdout",
     "output_type": "stream",
     "text": [
      "3.6\n"
     ]
    }
   ],
   "source": [
    "print(versiones_plone.pop(2))"
   ]
  },
  {
   "cell_type": "code",
   "execution_count": 41,
   "id": "caa0ba20",
   "metadata": {},
   "outputs": [
    {
     "name": "stdout",
     "output_type": "stream",
     "text": [
      "[2.1, 2.5, 4, 5, 6]\n"
     ]
    }
   ],
   "source": [
    "print(versiones_plone)"
   ]
  },
  {
   "cell_type": "code",
   "execution_count": 42,
   "id": "a9c0f592",
   "metadata": {},
   "outputs": [
    {
     "name": "stdout",
     "output_type": "stream",
     "text": [
      "[2.1, 2.5, 3.6, 4, 5, 6]\n"
     ]
    }
   ],
   "source": [
    "versiones_plone = [2.1, 2.5, 3.6, 4, 5, 6]\n",
    "print(versiones_plone)"
   ]
  },
  {
   "cell_type": "code",
   "execution_count": 43,
   "id": "6820be39",
   "metadata": {},
   "outputs": [
    {
     "name": "stdout",
     "output_type": "stream",
     "text": [
      "[2.1, 3.6, 4, 5, 6]\n"
     ]
    }
   ],
   "source": [
    "versiones_plone.remove(2.5)\n",
    "print(versiones_plone)"
   ]
  },
  {
   "cell_type": "code",
   "execution_count": 45,
   "id": "cd52370e",
   "metadata": {},
   "outputs": [
    {
     "name": "stdout",
     "output_type": "stream",
     "text": [
      "[2.1, 2.5, 3.6, 4, 5, 6]\n"
     ]
    }
   ],
   "source": [
    "versiones_plone = [2.1, 2.5, 3.6, 4, 5, 6]\n",
    "print(versiones_plone)"
   ]
  },
  {
   "cell_type": "code",
   "execution_count": 46,
   "id": "a6aa9f04",
   "metadata": {},
   "outputs": [
    {
     "ename": "ValueError",
     "evalue": "list.remove(x): x not in list",
     "output_type": "error",
     "traceback": [
      "\u001b[1;31m---------------------------------------------------------------------------\u001b[0m",
      "\u001b[1;31mValueError\u001b[0m                                Traceback (most recent call last)",
      "Input \u001b[1;32mIn [46]\u001b[0m, in \u001b[0;36m<cell line: 1>\u001b[1;34m()\u001b[0m\n\u001b[1;32m----> 1\u001b[0m \u001b[43mversiones_plone\u001b[49m\u001b[38;5;241;43m.\u001b[39;49m\u001b[43mremove\u001b[49m\u001b[43m(\u001b[49m\u001b[38;5;241;43m7\u001b[39;49m\u001b[43m)\u001b[49m\n",
      "\u001b[1;31mValueError\u001b[0m: list.remove(x): x not in list"
     ]
    }
   ],
   "source": [
    "versiones_plone.remove(7)"
   ]
  },
  {
   "cell_type": "code",
   "execution_count": 47,
   "id": "e4857390",
   "metadata": {},
   "outputs": [
    {
     "name": "stdout",
     "output_type": "stream",
     "text": [
      "[2.1, 2.5, 3.6, 4, 5, 6]\n"
     ]
    }
   ],
   "source": [
    "versiones_plone = [2.1, 2.5, 3.6, 4, 5, 6]\n",
    "print(versiones_plone)"
   ]
  },
  {
   "cell_type": "code",
   "execution_count": 48,
   "id": "37c0c69f",
   "metadata": {},
   "outputs": [
    {
     "name": "stdout",
     "output_type": "stream",
     "text": [
      "[6, 5, 4, 3.6, 2.5, 2.1]\n"
     ]
    }
   ],
   "source": [
    "versiones_plone.reverse()\n",
    "print(versiones_plone)"
   ]
  },
  {
   "cell_type": "code",
   "execution_count": 52,
   "id": "aa79c439",
   "metadata": {},
   "outputs": [
    {
     "name": "stdout",
     "output_type": "stream",
     "text": [
      "[4, 2.5, 5, 3.6, 2.1, 6]\n"
     ]
    }
   ],
   "source": [
    "versiones_plone = [4, 2.5, 5, 3.6, 2.1, 6]\n",
    "print(versiones_plone)"
   ]
  },
  {
   "cell_type": "code",
   "execution_count": 53,
   "id": "e7cf2a29",
   "metadata": {},
   "outputs": [
    {
     "name": "stdout",
     "output_type": "stream",
     "text": [
      "[2.1, 2.5, 3.6, 4, 5, 6]\n"
     ]
    }
   ],
   "source": [
    "versiones_plone.sort()\n",
    "print(versiones_plone)"
   ]
  },
  {
   "cell_type": "code",
   "execution_count": 54,
   "id": "1da3daa1",
   "metadata": {},
   "outputs": [
    {
     "name": "stdout",
     "output_type": "stream",
     "text": [
      "[6, 5, 4, 3.6, 2.5, 2.1]\n"
     ]
    }
   ],
   "source": [
    "versiones_plone.sort(reverse=True)\n",
    "print(versiones_plone)"
   ]
  },
  {
   "cell_type": "code",
   "execution_count": 56,
   "id": "e1d37428",
   "metadata": {},
   "outputs": [
    {
     "data": {
      "text/plain": [
       "['Hola,', 'como', 'estas', 'tu?']"
      ]
     },
     "execution_count": 56,
     "metadata": {},
     "output_type": "execute_result"
    }
   ],
   "source": [
    "mensaje = 'Hola, como estas tu?'\n",
    "mensaje.split()"
   ]
  },
  {
   "cell_type": "code",
   "execution_count": 58,
   "id": "aa866abc",
   "metadata": {},
   "outputs": [
    {
     "name": "stdout",
     "output_type": "stream",
     "text": [
      "Hola,\n",
      "como\n",
      "estas\n",
      "tu?\n"
     ]
    }
   ],
   "source": [
    "for palabra in mensaje.split():\n",
    "    print(palabra)"
   ]
  },
  {
   "cell_type": "code",
   "execution_count": 60,
   "id": "e5cbf71c",
   "metadata": {},
   "outputs": [
    {
     "name": "stdout",
     "output_type": "stream",
     "text": [
      "¿cual es tu nombre?, la espiesta es: leonardo.\n",
      "¿cual es tu objetivo?, la espiesta es: aprender python y plone.\n",
      "¿cual es tu sistema operativo?, la espiesta es: linux.\n"
     ]
    }
   ],
   "source": [
    "preguntas = ['nombre', 'objetivo', 'sistema operativo']\n",
    "respuestas = ['leonardo', 'aprender python y plone', 'linux']\n",
    "\n",
    "for pregunta, respuesta in zip(preguntas, respuestas):\n",
    "    print('¿cual es tu {0}?, la espiesta es: {1}.'.format(pregunta, respuesta))"
   ]
  },
  {
   "cell_type": "code",
   "execution_count": null,
   "id": "e7ff4c8e",
   "metadata": {},
   "outputs": [],
   "source": []
  }
 ],
 "metadata": {
  "kernelspec": {
   "display_name": "Python 3.9.12 ('base')",
   "language": "python",
   "name": "python3"
  },
  "language_info": {
   "codemirror_mode": {
    "name": "ipython",
    "version": 3
   },
   "file_extension": ".py",
   "mimetype": "text/x-python",
   "name": "python",
   "nbconvert_exporter": "python",
   "pygments_lexer": "ipython3",
   "version": "3.9.12"
  },
  "vscode": {
   "interpreter": {
    "hash": "6018457a9cf31c4f12b198deda590ba24c2cc27a9da71629eaeb4f113d477133"
   }
  }
 },
 "nbformat": 4,
 "nbformat_minor": 5
}
