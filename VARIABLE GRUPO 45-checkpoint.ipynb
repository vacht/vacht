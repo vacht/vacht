{
 "cells": [
  {
   "cell_type": "code",
   "execution_count": 1,
   "id": "1b563a35",
   "metadata": {},
   "outputs": [
    {
     "name": "stdout",
     "output_type": "stream",
     "text": [
      "1.2\n"
     ]
    }
   ],
   "source": [
    "var1 = 1.20\n",
    "print(var1)"
   ]
  },
  {
   "cell_type": "code",
   "execution_count": 2,
   "id": "5e172794",
   "metadata": {},
   "outputs": [
    {
     "name": "stdout",
     "output_type": "stream",
     "text": [
      "1\n"
     ]
    }
   ],
   "source": [
    "var1 = int (var1)\n",
    "print(var1)"
   ]
  },
  {
   "cell_type": "code",
   "execution_count": 3,
   "id": "8c4e62ed",
   "metadata": {},
   "outputs": [
    {
     "name": "stdout",
     "output_type": "stream",
     "text": [
      "120\n"
     ]
    }
   ],
   "source": [
    "var1 = 120 \n",
    "var2 = var1\n",
    "print(var2)"
   ]
  },
  {
   "cell_type": "code",
   "execution_count": 4,
   "id": "e9728ad4",
   "metadata": {},
   "outputs": [
    {
     "name": "stdout",
     "output_type": "stream",
     "text": [
      "Hola mundo\n"
     ]
    }
   ],
   "source": [
    "variable = \"Hola mundo\"\n",
    "print (variable)"
   ]
  },
  {
   "cell_type": "code",
   "execution_count": 6,
   "id": "efcb2a44",
   "metadata": {},
   "outputs": [
    {
     "name": "stdout",
     "output_type": "stream",
     "text": [
      "120\n",
      "200\n"
     ]
    }
   ],
   "source": [
    "var1 = 120\n",
    "var2 = 200\n",
    "print(var1)\n",
    "print(var2)"
   ]
  },
  {
   "cell_type": "code",
   "execution_count": 7,
   "id": "9a05b156",
   "metadata": {},
   "outputs": [
    {
     "ename": "SyntaxError",
     "evalue": "invalid syntax (3363899667.py, line 1)",
     "output_type": "error",
     "traceback": [
      "\u001b[1;36m  Input \u001b[1;32mIn [7]\u001b[1;36m\u001b[0m\n\u001b[1;33m    var 1 = 120\u001b[0m\n\u001b[1;37m        ^\u001b[0m\n\u001b[1;31mSyntaxError\u001b[0m\u001b[1;31m:\u001b[0m invalid syntax\n"
     ]
    }
   ],
   "source": [
    "var 1 = 120"
   ]
  },
  {
   "cell_type": "code",
   "execution_count": 8,
   "id": "eefd0db2",
   "metadata": {},
   "outputs": [
    {
     "ename": "SyntaxError",
     "evalue": "invalid syntax (3392122592.py, line 1)",
     "output_type": "error",
     "traceback": [
      "\u001b[1;36m  Input \u001b[1;32mIn [8]\u001b[1;36m\u001b[0m\n\u001b[1;33m    @var1 = 120\u001b[0m\n\u001b[1;37m          ^\u001b[0m\n\u001b[1;31mSyntaxError\u001b[0m\u001b[1;31m:\u001b[0m invalid syntax\n"
     ]
    }
   ],
   "source": [
    "@var1 = 120"
   ]
  },
  {
   "cell_type": "code",
   "execution_count": 9,
   "id": "107b4fbf",
   "metadata": {},
   "outputs": [
    {
     "ename": "SyntaxError",
     "evalue": "invalid syntax (527888748.py, line 1)",
     "output_type": "error",
     "traceback": [
      "\u001b[1;36m  Input \u001b[1;32mIn [9]\u001b[1;36m\u001b[0m\n\u001b[1;33m    1var = 120\u001b[0m\n\u001b[1;37m     ^\u001b[0m\n\u001b[1;31mSyntaxError\u001b[0m\u001b[1;31m:\u001b[0m invalid syntax\n"
     ]
    }
   ],
   "source": [
    "1var = 120"
   ]
  },
  {
   "cell_type": "code",
   "execution_count": 10,
   "id": "7259face",
   "metadata": {},
   "outputs": [
    {
     "ename": "SyntaxError",
     "evalue": "cannot assign to operator (2170199092.py, line 1)",
     "output_type": "error",
     "traceback": [
      "\u001b[1;36m  Input \u001b[1;32mIn [10]\u001b[1;36m\u001b[0m\n\u001b[1;33m    var-1 = 120\u001b[0m\n\u001b[1;37m    ^\u001b[0m\n\u001b[1;31mSyntaxError\u001b[0m\u001b[1;31m:\u001b[0m cannot assign to operator\n"
     ]
    }
   ],
   "source": [
    "var-1 = 120"
   ]
  },
  {
   "cell_type": "code",
   "execution_count": null,
   "id": "f5a9b7ba",
   "metadata": {},
   "outputs": [],
   "source": [
    "#asignacion multiple\n",
    "var1 = var2 = var3 = 200\n",
    "var1, var2, var3, = 10, 20, 30"
   ]
  },
  {
   "cell_type": "code",
   "execution_count": 11,
   "id": "00a03fa2",
   "metadata": {},
   "outputs": [
    {
     "data": {
      "text/plain": [
       "5"
      ]
     },
     "execution_count": 11,
     "metadata": {},
     "output_type": "execute_result"
    }
   ],
   "source": [
    "2+3 #suma"
   ]
  },
  {
   "cell_type": "code",
   "execution_count": 12,
   "id": "78cb0b7f",
   "metadata": {},
   "outputs": [
    {
     "name": "stdout",
     "output_type": "stream",
     "text": [
      "19.990000000000002\n"
     ]
    },
    {
     "data": {
      "text/plain": [
       "float"
      ]
     },
     "execution_count": 12,
     "metadata": {},
     "output_type": "execute_result"
    }
   ],
   "source": [
    "#esta suma retornada en un float\n",
    "numero1 = 10\n",
    "numero2 = 9.99\n",
    "numero3 = numero1 + numero2\n",
    "print(numero3)\n",
    "type(numero3)"
   ]
  },
  {
   "cell_type": "code",
   "execution_count": 13,
   "id": "8743c12c",
   "metadata": {},
   "outputs": [
    {
     "data": {
      "text/plain": [
       "3"
      ]
     },
     "execution_count": 13,
     "metadata": {},
     "output_type": "execute_result"
    }
   ],
   "source": [
    "8-5 #resta"
   ]
  },
  {
   "cell_type": "code",
   "execution_count": 14,
   "id": "8e881203",
   "metadata": {},
   "outputs": [
    {
     "data": {
      "text/plain": [
       "12"
      ]
     },
     "execution_count": 14,
     "metadata": {},
     "output_type": "execute_result"
    }
   ],
   "source": [
    "2*6 #multiplicacion"
   ]
  },
  {
   "cell_type": "code",
   "execution_count": 15,
   "id": "87fb8c9d",
   "metadata": {},
   "outputs": [
    {
     "data": {
      "text/plain": [
       "4.0"
      ]
     },
     "execution_count": 15,
     "metadata": {},
     "output_type": "execute_result"
    }
   ],
   "source": [
    "12/3 #division"
   ]
  },
  {
   "cell_type": "code",
   "execution_count": 16,
   "id": "a83e5687",
   "metadata": {},
   "outputs": [
    {
     "data": {
      "text/plain": [
       "4"
      ]
     },
     "execution_count": 16,
     "metadata": {},
     "output_type": "execute_result"
    }
   ],
   "source": [
    "12//3 #division de enteros"
   ]
  },
  {
   "cell_type": "code",
   "execution_count": 17,
   "id": "754a716a",
   "metadata": {},
   "outputs": [
    {
     "data": {
      "text/plain": [
       "1"
      ]
     },
     "execution_count": 17,
     "metadata": {},
     "output_type": "execute_result"
    }
   ],
   "source": [
    "7 % 3 #modulo (retorna el remanente de la division)"
   ]
  },
  {
   "cell_type": "code",
   "execution_count": 20,
   "id": "483d6454",
   "metadata": {},
   "outputs": [],
   "source": [
    "cuadrado = 7 ** 2 #potencia al cuadrado"
   ]
  },
  {
   "cell_type": "code",
   "execution_count": 21,
   "id": "91dc3d58",
   "metadata": {},
   "outputs": [],
   "source": [
    "cubico = 2 ** 3 #potencia al cubo"
   ]
  },
  {
   "cell_type": "code",
   "execution_count": 23,
   "id": "51b5d360",
   "metadata": {},
   "outputs": [],
   "source": [
    "x = 15 + 18"
   ]
  },
  {
   "cell_type": "code",
   "execution_count": 24,
   "id": "ffbddb70",
   "metadata": {},
   "outputs": [],
   "source": [
    "sqrt = x**(1/2) #raiz cuadrada"
   ]
  },
  {
   "cell_type": "code",
   "execution_count": 25,
   "id": "c90fb4a9",
   "metadata": {},
   "outputs": [
    {
     "name": "stdout",
     "output_type": "stream",
     "text": [
      "16\n"
     ]
    }
   ],
   "source": [
    "#concatenacion\n",
    "primer_numero =7\n",
    "segundo_numero =9\n",
    "suma = primer_numero + segundo_numero\n",
    "print(suma)"
   ]
  },
  {
   "cell_type": "code",
   "execution_count": 27,
   "id": "ad813105",
   "metadata": {},
   "outputs": [
    {
     "name": "stdout",
     "output_type": "stream",
     "text": [
      "Hola de nuevo\n"
     ]
    }
   ],
   "source": [
    "primera_cadena = \"Hola \"\n",
    "segunda_cadena = \"de nuevo\"\n",
    "frase = primera_cadena + segunda_cadena\n",
    "print(frase)"
   ]
  },
  {
   "cell_type": "code",
   "execution_count": null,
   "id": "4cee6567",
   "metadata": {},
   "outputs": [],
   "source": []
  }
 ],
 "metadata": {
  "kernelspec": {
   "display_name": "Python 3 (ipykernel)",
   "language": "python",
   "name": "python3"
  },
  "language_info": {
   "codemirror_mode": {
    "name": "ipython",
    "version": 3
   },
   "file_extension": ".py",
   "mimetype": "text/x-python",
   "name": "python",
   "nbconvert_exporter": "python",
   "pygments_lexer": "ipython3",
   "version": "3.9.12"
  }
 },
 "nbformat": 4,
 "nbformat_minor": 5
}
