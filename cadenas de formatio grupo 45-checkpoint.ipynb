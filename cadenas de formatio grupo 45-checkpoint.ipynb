{
 "cells": [
  {
   "cell_type": "code",
   "execution_count": 2,
   "id": "c6964f81",
   "metadata": {},
   "outputs": [
    {
     "name": "stdout",
     "output_type": "stream",
     "text": [
      "¡Hola liliana!\n"
     ]
    }
   ],
   "source": [
    "nombre = 'liliana'\n",
    "cadena_formateada = '¡Hola %s!' % nombre\n",
    "\n",
    "print(cadena_formateada)"
   ]
  },
  {
   "cell_type": "code",
   "execution_count": 3,
   "id": "f387db8e",
   "metadata": {},
   "outputs": [
    {
     "name": "stdout",
     "output_type": "stream",
     "text": [
      "Esto es una letra M: M\n",
      "Esto es un numero 8: 8\n",
      "Esto es una lista: [10, 30, 100]\n"
     ]
    }
   ],
   "source": [
    "print('Esto es una letra M: %s' % 'M')\n",
    "print('Esto es un numero 8: %s' % 8)\n",
    "print('Esto es una lista: %s' % [10, 30, 100])"
   ]
  },
  {
   "cell_type": "code",
   "execution_count": 4,
   "id": "a5d20902",
   "metadata": {},
   "outputs": [
    {
     "name": "stdout",
     "output_type": "stream",
     "text": [
      "¡Hola liliana y catalina bienvenidas!\n"
     ]
    }
   ],
   "source": [
    "nombre1 = 'liliana'\n",
    "nombre2 = 'catalina'\n",
    "\n",
    "print('¡Hola %s y %s bienvenidas!' % (nombre1, nombre2))"
   ]
  },
  {
   "cell_type": "code",
   "execution_count": 5,
   "id": "616b164c",
   "metadata": {},
   "outputs": [
    {
     "name": "stdout",
     "output_type": "stream",
     "text": [
      "*      Enero *Enero      *\n",
      "*    febrero *febrero    *\n",
      "*       Mazo *Mazo       *\n",
      "*      Abril *Abril      *\n",
      "*       Mayo *Mayo       *\n",
      "*      Junio *Junio      *\n"
     ]
    }
   ],
   "source": [
    "primeros_meses= ['Enero', 'febrero', 'Mazo', 'Abril', 'Mayo', 'Junio']\n",
    "\n",
    "for i in primeros_meses:\n",
    "    \n",
    "    print('* %10s *%-10s *' % (i,i))"
   ]
  },
  {
   "cell_type": "code",
   "execution_count": 6,
   "id": "a99ab6b8",
   "metadata": {},
   "outputs": [
    {
     "name": "stdout",
     "output_type": "stream",
     "text": [
      "El lenguaje de programacion python nacio en el año 1991\n"
     ]
    }
   ],
   "source": [
    "print('El lenguaje de programacion %s nacio en el año %d' % ('python',1991))\n"
   ]
  },
  {
   "cell_type": "code",
   "execution_count": 7,
   "id": "a9f4b102",
   "metadata": {},
   "outputs": [
    {
     "name": "stdout",
     "output_type": "stream",
     "text": [
      "El numero hexadecimal es 160 y el decimal es 10\n"
     ]
    }
   ],
   "source": [
    "hexadecimal = 0XA0\n",
    "decimal = 10.5\n",
    "\n",
    "print('El numero hexadecimal es %d y el decimal es %d' %(hexadecimal,decimal))"
   ]
  },
  {
   "cell_type": "code",
   "execution_count": 8,
   "id": "e458f73b",
   "metadata": {},
   "outputs": [
    {
     "name": "stdout",
     "output_type": "stream",
     "text": [
      "1000 en exadecimal (minusculas) es 3e8\n",
      "1000 en exadecimal (minusculas) es 3E8\n",
      "1000 en exadecimal (minusculas) es 1.000000e+03\n",
      "1000 en exadecimal (minusculas) es 1.000000E+03\n"
     ]
    }
   ],
   "source": [
    "numero = 1000\n",
    "\n",
    "print('%d en exadecimal (minusculas) es %x' %(numero,numero))\n",
    "\n",
    "print('%d en exadecimal (minusculas) es %X' %(numero,numero))\n",
    "\n",
    "print('%d en exadecimal (minusculas) es %e' %(numero,numero))\n",
    "\n",
    "print('%d en exadecimal (minusculas) es %E' %(numero,numero))"
   ]
  },
  {
   "cell_type": "code",
   "execution_count": 9,
   "id": "8fb774fa",
   "metadata": {},
   "outputs": [
    {
     "name": "stdout",
     "output_type": "stream",
     "text": [
      "Un tercio (sin decimales) es 0\n",
      "Un tercio es 0.333333\n"
     ]
    }
   ],
   "source": [
    "tercio = 1.0 / 3\n",
    "\n",
    "print('Un tercio (sin decimales) es %d' % tercio)\n",
    "\n",
    "print('Un tercio es %f' % tercio)"
   ]
  },
  {
   "cell_type": "code",
   "execution_count": 10,
   "id": "93eb806c",
   "metadata": {},
   "outputs": [
    {
     "name": "stdout",
     "output_type": "stream",
     "text": [
      "Un tercio es 0.333333\n",
      "Un tercio es 0.33\n"
     ]
    }
   ],
   "source": [
    "tercio = 1.0 / 3\n",
    "\n",
    "print('Un tercio es %f' % tercio)\n",
    "\n",
    "print('Un tercio es %.2f' % tercio)"
   ]
  },
  {
   "cell_type": "code",
   "execution_count": 11,
   "id": "fbda28e5",
   "metadata": {},
   "outputs": [
    {
     "name": "stdout",
     "output_type": "stream",
     "text": [
      "Escriba su nombre, por favor:sebas\n",
      "Holasebas\n"
     ]
    }
   ],
   "source": [
    "nombre = input('Escriba su nombre, por favor:')\n",
    "\n",
    "print('Hola' + nombre)"
   ]
  },
  {
   "cell_type": "code",
   "execution_count": null,
   "id": "516a0c76",
   "metadata": {},
   "outputs": [],
   "source": []
  }
 ],
 "metadata": {
  "kernelspec": {
   "display_name": "Python 3.9.12 ('base')",
   "language": "python",
   "name": "python3"
  },
  "language_info": {
   "codemirror_mode": {
    "name": "ipython",
    "version": 3
   },
   "file_extension": ".py",
   "mimetype": "text/x-python",
   "name": "python",
   "nbconvert_exporter": "python",
   "pygments_lexer": "ipython3",
   "version": "3.9.12"
  },
  "vscode": {
   "interpreter": {
    "hash": "6018457a9cf31c4f12b198deda590ba24c2cc27a9da71629eaeb4f113d477133"
   }
  }
 },
 "nbformat": 4,
 "nbformat_minor": 5
}
