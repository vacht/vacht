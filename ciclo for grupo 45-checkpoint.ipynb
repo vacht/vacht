{
 "cells": [
  {
   "cell_type": "code",
   "execution_count": null,
   "id": "110e1c3a",
   "metadata": {},
   "outputs": [],
   "source": [
    "# sintaxis del ciclo for\n",
    "for variable in serie valores:\n",
    "    #codigo\n",
    "    #codigo\n",
    "    #codigo"
   ]
  },
  {
   "cell_type": "code",
   "execution_count": 2,
   "id": "bcbe081e",
   "metadata": {},
   "outputs": [
    {
     "name": "stdout",
     "output_type": "stream",
     "text": [
      "estamos en la interaccion0\n",
      "estamos en la interaccion1\n",
      "estamos en la interaccion2\n"
     ]
    }
   ],
   "source": [
    "for x in range(0, 3):\n",
    "    print(\"estamos en la interaccion\" + str(x))"
   ]
  },
  {
   "cell_type": "code",
   "execution_count": 3,
   "id": "0dcc4c01",
   "metadata": {},
   "outputs": [
    {
     "name": "stdout",
     "output_type": "stream",
     "text": [
      "estamos en la interaccion0\n",
      "estamos en la interaccion2\n",
      "estamos en la interaccion4\n",
      "estamos en la interaccion6\n",
      "estamos en la interaccion8\n"
     ]
    }
   ],
   "source": [
    "for j in range(0, 10, 2):\n",
    "    print(\"estamos en la interaccion\" + str(j))"
   ]
  },
  {
   "cell_type": "code",
   "execution_count": 1,
   "id": "3502a923",
   "metadata": {},
   "outputs": [
    {
     "name": "stdout",
     "output_type": "stream",
     "text": [
      "la oracion analizada es: pablo entiende muy bien python .\n",
      "\n",
      "palabra: pablo, en la frase su posicion es: 0\n",
      "palabra: entiende, en la frase su posicion es: 1\n",
      "palabra: muy, en la frase su posicion es: 2\n",
      "palabra: bien, en la frase su posicion es: 3\n",
      "palabra: python, en la frase su posicion es: 4\n"
     ]
    }
   ],
   "source": [
    "oracion = \"pablo entiende muy bien python\"\n",
    "frases = oracion.split()#convierte a una lista cada palabra\n",
    "print(\"la oracion analizada es:\", oracion, \".\\n\")\n",
    "\n",
    "for palabra in range(len(frases)):\n",
    "    print(\"palabra: {0}, en la frase su posicion es: {1}\".format(frases[palabra], palabra))"
   ]
  },
  {
   "cell_type": "code",
   "execution_count": 9,
   "id": "7a9097a0",
   "metadata": {},
   "outputs": [
    {
     "name": "stdout",
     "output_type": "stream",
     "text": [
      "el valor es:  1, 2 y 3\n"
     ]
    }
   ],
   "source": [
    "print(\"el valor es:  {}, {} y {}\".format(1, 2, 3))"
   ]
  },
  {
   "cell_type": "code",
   "execution_count": 9,
   "id": "e371225a",
   "metadata": {},
   "outputs": [
    {
     "ename": "SyntaxError",
     "evalue": "positional argument follows keyword argument (485755247.py, line 9)",
     "output_type": "error",
     "traceback": [
      "\u001b[1;36m  Input \u001b[1;32mIn [9]\u001b[1;36m\u001b[0m\n\u001b[1;33m    user=db_connection[2], db_name=db_connection[3]))\u001b[0m\n\u001b[1;37m                                                   ^\u001b[0m\n\u001b[1;31mSyntaxError\u001b[0m\u001b[1;31m:\u001b[0m positional argument follows keyword argument\n"
     ]
    }
   ],
   "source": [
    "db_connection = \"127.0.0.1\",\"5432\",\"root\",\"nomina\"\n",
    "\n",
    "for parametro in db_connection:\n",
    "    print(parametro)\n",
    "else:\n",
    "    print(\"\"\"El comando postgresSQL es:\n",
    "$ psql -h {sever} -p {port} -u {user} -d {db_name}\"\"\".format(\n",
    "        sever=db_connection[0], portdb_connection[1],\n",
    "        user=db_connection[2], db_name=db_connection[3]))"
   ]
  },
  {
   "cell_type": "code",
   "execution_count": null,
   "id": "71a6d97a",
   "metadata": {},
   "outputs": [],
   "source": [
    "fruta = \"fresa\""
   ]
  },
  {
   "cell_type": "code",
   "execution_count": null,
   "id": "1dc9b861",
   "metadata": {},
   "outputs": [],
   "source": [
    "letra = fruta[1]"
   ]
  },
  {
   "cell_type": "code",
   "execution_count": 10,
   "id": "c040df9a",
   "metadata": {},
   "outputs": [
    {
     "ename": "NameError",
     "evalue": "name 'letra' is not defined",
     "output_type": "error",
     "traceback": [
      "\u001b[1;31m---------------------------------------------------------------------------\u001b[0m",
      "\u001b[1;31mNameError\u001b[0m                                 Traceback (most recent call last)",
      "Input \u001b[1;32mIn [10]\u001b[0m, in \u001b[0;36m<cell line: 1>\u001b[1;34m()\u001b[0m\n\u001b[1;32m----> 1\u001b[0m \u001b[38;5;28mprint\u001b[39m(\u001b[43mletra\u001b[49m)\n",
      "\u001b[1;31mNameError\u001b[0m: name 'letra' is not defined"
     ]
    }
   ],
   "source": [
    "print(letra)"
   ]
  },
  {
   "cell_type": "code",
   "execution_count": 3,
   "id": "cade305b",
   "metadata": {},
   "outputs": [
    {
     "name": "stdout",
     "output_type": "stream",
     "text": [
      "estamos en la interaccion0\n",
      "estamos en la interaccion1\n",
      "estamos en la interaccion2\n"
     ]
    }
   ],
   "source": [
    "\n",
    "for x in range(0, 3):\n",
    "    print(\"estamos en la interaccion\" + str(x))"
   ]
  },
  {
   "cell_type": "code",
   "execution_count": 1,
   "id": "8a4d4254",
   "metadata": {},
   "outputs": [
    {
     "name": "stdout",
     "output_type": "stream",
     "text": [
      "1\n",
      "12\n",
      "123\n",
      "1234\n",
      "12345\n",
      "123456\n"
     ]
    }
   ],
   "source": [
    "print(\"1\")\n",
    "print(\"12\")\n",
    "print(\"123\")\n",
    "print(\"1234\")\n",
    "print(\"12345\")\n",
    "print(\"123456\")"
   ]
  },
  {
   "cell_type": "code",
   "execution_count": 2,
   "id": "9b696cb4",
   "metadata": {},
   "outputs": [
    {
     "name": "stdout",
     "output_type": "stream",
     "text": [
      "1\n",
      "12\n",
      "123\n",
      "1234\n",
      "12345\n",
      "123456\n",
      "la suma total: 137171\n"
     ]
    }
   ],
   "source": [
    "valorTotal=1+12+123+1234+12345+123456\n",
    "print(\"1\")\n",
    "print(\"12\")\n",
    "print(\"123\")\n",
    "print(\"1234\")\n",
    "print(\"12345\")\n",
    "print(\"123456\")\n",
    "print(\"la suma total:\", valorTotal)"
   ]
  },
  {
   "cell_type": "code",
   "execution_count": 4,
   "id": "2ce31f5e",
   "metadata": {},
   "outputs": [
    {
     "name": "stdout",
     "output_type": "stream",
     "text": [
      "0\n",
      "1\n",
      "2\n"
     ]
    }
   ],
   "source": [
    "for num in range(0, 3):\n",
    "    print(num)"
   ]
  },
  {
   "cell_type": "code",
   "execution_count": 7,
   "id": "479b47eb",
   "metadata": {},
   "outputs": [
    {
     "data": {
      "text/plain": [
       "[1, 2, 3, 4, 5, 6, 7, 8, 9, 10]"
      ]
     },
     "execution_count": 7,
     "metadata": {},
     "output_type": "execute_result"
    }
   ],
   "source": [
    "list(range(1,11))\n",
    "\n"
   ]
  },
  {
   "cell_type": "code",
   "execution_count": 8,
   "id": "2e048300",
   "metadata": {},
   "outputs": [
    {
     "data": {
      "text/plain": [
       "[1, 3, 5, 7, 9]"
      ]
     },
     "execution_count": 8,
     "metadata": {},
     "output_type": "execute_result"
    }
   ],
   "source": [
    "list(range(1,10,2))"
   ]
  },
  {
   "cell_type": "code",
   "execution_count": 10,
   "id": "041dded2",
   "metadata": {},
   "outputs": [
    {
     "name": "stdout",
     "output_type": "stream",
     "text": [
      "estamos en la interaccion0\n",
      "estamos en la interaccion2\n",
      "estamos en la interaccion4\n",
      "estamos en la interaccion6\n",
      "estamos en la interaccion8\n"
     ]
    }
   ],
   "source": [
    "for j in range(0, 10, 2):\n",
    "    print(\"estamos en la interaccion\" + str(j))"
   ]
  },
  {
   "cell_type": "code",
   "execution_count": 1,
   "id": "d3518aa3",
   "metadata": {},
   "outputs": [
    {
     "name": "stdout",
     "output_type": "stream",
     "text": [
      "0\n",
      "1\n",
      "2\n",
      "3\n",
      "4\n"
     ]
    }
   ],
   "source": [
    "numero = int(input(\"ingrese numero:\"))\n",
    "for num in range(numero):\n",
    "    print(num)\n"
   ]
  },
  {
   "cell_type": "code",
   "execution_count": 11,
   "id": "7a4cbe19",
   "metadata": {},
   "outputs": [
    {
     "name": "stdout",
     "output_type": "stream",
     "text": [
      "1\n",
      "12\n",
      "123\n",
      "1234\n",
      "12345\n",
      "123456\n",
      "1234567\n",
      "12345678\n",
      "123456789\n",
      "12345678910\n",
      "la suma total: 12482853115\n"
     ]
    }
   ],
   "source": [
    "numero = int(input(\"ingrese numero:\"))\n",
    "guardar=''\n",
    "valorTotal=0\n",
    "for num in range(1,numero+1):\n",
    "    guardar=guardar+str(num)\n",
    "    valorTotal=valorTotal+int(guardar)\n",
    "    print(guardar)\n",
    "    \n",
    "print(\"la suma total:\", valorTotal)"
   ]
  },
  {
   "cell_type": "code",
   "execution_count": null,
   "id": "cebd9286",
   "metadata": {},
   "outputs": [],
   "source": [
    "numero = int(input(\"ingrese numero:\"))\n",
    "guardar=''\n",
    "valorTotal=0\n",
    "\n",
    "for num in range(1,numero+1):\n",
    "    guardar=guardar+('1'*num)+'\\n'\n",
    "    #valorTotal=valorTotal+int(guardar)\n",
    "    print(guardar)\n",
    "\n",
    "if(numero > 10):\n",
    "    print(\"la suma total:\", valorTotal)\n"
   ]
  },
  {
   "cell_type": "code",
   "execution_count": 11,
   "id": "ed3a3e0c",
   "metadata": {},
   "outputs": [
    {
     "name": "stdout",
     "output_type": "stream",
     "text": [
      "1\n",
      "11\n",
      "111\n",
      "1111\n",
      "11111\n",
      "111111\n",
      "1111111\n",
      "11111111\n",
      "111111111\n",
      "1111111111\n",
      "11111111111\n",
      "111111111111\n",
      "\n",
      "La suma total: 123456790122\n"
     ]
    }
   ],
   "source": [
    "numero = int(input(\"Ingrese un número: \"))\n",
    "guardar = ''\n",
    "valorTotal = 0\n",
    "\n",
    "for num in range(1, numero + 1):\n",
    "    guardar = guardar + ('1' * num) + '\\n'\n",
    "    valorTotal += int('1' * num)\n",
    "\n",
    "print(guardar)\n",
    "\n",
    "if numero > 10:\n",
    "    print(\"La suma total:\", valorTotal)\n"
   ]
  },
  {
   "cell_type": "code",
   "execution_count": 3,
   "id": "2da6754c",
   "metadata": {},
   "outputs": [
    {
     "name": "stdout",
     "output_type": "stream",
     "text": [
      "Clave compartida exitosamente: 18\n"
     ]
    }
   ],
   "source": [
    "# Importar la biblioteca de números primos y generación de números aleatorios\n",
    "import random\n",
    "import sympy\n",
    "\n",
    "# Función para calcular la clave pública\n",
    "def calcular_clave_publica(base, exponente, modulo):\n",
    "    return (base ** exponente) % modulo\n",
    "\n",
    "# Parámetros compartidos entre Alice y Bob\n",
    "p = sympy.randprime(10, 50)  # Número primo aleatorio como módulo\n",
    "g = random.randint(2, p - 1)  # Generador aleatorio en el rango\n",
    "\n",
    "# Claves privadas de Alice y Bob (seleccionadas aleatoriamente)\n",
    "a_privada = random.randint(2, p - 2)\n",
    "b_privada = random.randint(2, p - 2)\n",
    "\n",
    "# Cálculo de las claves públicas de Alice y Bob\n",
    "a_publica = calcular_clave_publica(g, a_privada, p)\n",
    "b_publica = calcular_clave_publica(g, b_privada, p)\n",
    "\n",
    "# Intercambio de claves públicas\n",
    "# Alice envía su clave pública a Bob y viceversa\n",
    "\n",
    "# Cálculo de la clave compartida\n",
    "clave_compartida_alice = calcular_clave_publica(b_publica, a_privada, p)\n",
    "clave_compartida_bob = calcular_clave_publica(a_publica, b_privada, p)\n",
    "\n",
    "# Las claves compartidas deberían ser iguales\n",
    "if clave_compartida_alice == clave_compartida_bob:\n",
    "    print(\"Clave compartida exitosamente:\", clave_compartida_alice)\n",
    "else:\n",
    "    print(\"Error en el intercambio de claves\")\n",
    "\n"
   ]
  }
 ],
 "metadata": {
  "kernelspec": {
   "display_name": "Python 3.9.12 ('base')",
   "language": "python",
   "name": "python3"
  },
  "language_info": {
   "codemirror_mode": {
    "name": "ipython",
    "version": 3
   },
   "file_extension": ".py",
   "mimetype": "text/x-python",
   "name": "python",
   "nbconvert_exporter": "python",
   "pygments_lexer": "ipython3",
   "version": "3.11.0"
  },
  "vscode": {
   "interpreter": {
    "hash": "6018457a9cf31c4f12b198deda590ba24c2cc27a9da71629eaeb4f113d477133"
   }
  }
 },
 "nbformat": 4,
 "nbformat_minor": 5
}
