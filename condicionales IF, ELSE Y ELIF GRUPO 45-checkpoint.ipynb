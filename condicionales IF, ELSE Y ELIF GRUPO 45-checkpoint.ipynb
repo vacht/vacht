{
 "cells": [
  {
   "cell_type": "code",
   "execution_count": null,
   "id": "359e3dce",
   "metadata": {},
   "outputs": [],
   "source": [
    "# sintaxis del condicional IF\n",
    "\n",
    "if condicion:\n",
    "    #codigo\n",
    "    #codigo\n",
    "    #codigo\n",
    "#codigo fuera del if"
   ]
  },
  {
   "cell_type": "code",
   "execution_count": null,
   "id": "787bcae2",
   "metadata": {},
   "outputs": [],
   "source": [
    "# sintaxis del condicional ELSE\n",
    "\n",
    "if condicion:\n",
    "    #codigo\n",
    "    #codigo\n",
    "else:\n",
    "    #codigo\n",
    "    #codigo\n",
    "#codigo fuera del else/if"
   ]
  },
  {
   "cell_type": "code",
   "execution_count": 3,
   "id": "0a890cc2",
   "metadata": {},
   "outputs": [
    {
     "name": "stdout",
     "output_type": "stream",
     "text": [
      "\"x\" es mayor que \"y\"\n"
     ]
    }
   ],
   "source": [
    "x= 7\n",
    "y= 2\n",
    "\n",
    "if x < y:\n",
    "    print('\"x\" es menor que \"y\"')\n",
    "elif x > y:\n",
    "    print('\"x\" es mayor que \"y\"')\n",
    "else:\n",
    "    print('\"x\" y \"y\" son iguales\"')"
   ]
  },
  {
   "cell_type": "code",
   "execution_count": 4,
   "id": "3eef3deb",
   "metadata": {},
   "outputs": [
    {
     "name": "stdout",
     "output_type": "stream",
     "text": [
      "\"x\" es menor que \"y\"\n"
     ]
    }
   ],
   "source": [
    "x= 1\n",
    "y= 2\n",
    "\n",
    "if x < y:\n",
    "    print('\"x\" es menor que \"y\"')\n",
    "elif x > y:\n",
    "    print('\"x\" es mayor que \"y\"')\n",
    "else:\n",
    "    print('\"x\" y \"y\" son iguales\"')"
   ]
  },
  {
   "cell_type": "code",
   "execution_count": 5,
   "id": "d013aad9",
   "metadata": {},
   "outputs": [
    {
     "name": "stdout",
     "output_type": "stream",
     "text": [
      "\"x\" y \"y\" son iguales\"\n"
     ]
    }
   ],
   "source": [
    "x= 2\n",
    "y= 2\n",
    "\n",
    "if x < y:\n",
    "    print('\"x\" es menor que \"y\"')\n",
    "elif x > y:\n",
    "    print('\"x\" es mayor que \"y\"')\n",
    "else:\n",
    "    print('\"x\" y \"y\" son iguales\"')"
   ]
  },
  {
   "cell_type": "code",
   "execution_count": 10,
   "id": "dd7984a5",
   "metadata": {},
   "outputs": [
    {
     "name": "stdout",
     "output_type": "stream",
     "text": [
      "Introduzca letra: c\n",
      "cerca, pero no es correcto\n"
     ]
    }
   ],
   "source": [
    "letra = input(\"Introduzca letra: \")\n",
    "if letra == 'a':\n",
    "    print('malas resultado')\n",
    "elif letra == 'b':\n",
    "    print('buen resultado')\n",
    "elif letra == 'c':\n",
    "    print('cerca, pero no es correcto')"
   ]
  },
  {
   "cell_type": "code",
   "execution_count": 1,
   "id": "ac7a6329",
   "metadata": {},
   "outputs": [
    {
     "name": "stdout",
     "output_type": "stream",
     "text": [
      "x es positivo\n"
     ]
    }
   ],
   "source": [
    "x = 10\n",
    "if x > 0 :\n",
    "    print(\"x es positivo\")\n",
    "else:\n",
    "    print(\"x es negativo\")"
   ]
  },
  {
   "cell_type": "code",
   "execution_count": 3,
   "id": "2e163f61",
   "metadata": {},
   "outputs": [
    {
     "name": "stdout",
     "output_type": "stream",
     "text": [
      "introduzca el valor: 6\n",
      "introduzca el valor: 9\n",
      "x es mayor que y\n"
     ]
    }
   ],
   "source": [
    "# condiciones anidados\n",
    "x= input (\"introduzca el valor: \")\n",
    "y= input (\"introduzca el valor: \")\n",
    "\n",
    "if x == y:\n",
    "    print(\"x y y son iguales\")\n",
    "else:\n",
    "    if x > y:\n",
    "        print(\"x es menor que y\")\n",
    "    else:\n",
    "        print(\"x es mayor que y\")"
   ]
  },
  {
   "cell_type": "code",
   "execution_count": 7,
   "id": "35055c3e",
   "metadata": {},
   "outputs": [
    {
     "name": "stdout",
     "output_type": "stream",
     "text": [
      "introduzca el valor: 3\n",
      "else numero no es mayor que 5\n"
     ]
    }
   ],
   "source": [
    "num1 = int(input(\"introduzca el valor: \"))\n",
    "\n",
    "if num1 > 5:\n",
    "    print(\"este numero es mayor que 5\")\n",
    "    if num1 == 10:\n",
    "        print(\"De hecho el numero es 10\")\n",
    "    else:\n",
    "            print(\"el numero es, \",num1)\n",
    "else:\n",
    "    print(\"else numero no es mayor que 5\")"
   ]
  },
  {
   "cell_type": "code",
   "execution_count": 11,
   "id": "29df94ed",
   "metadata": {},
   "outputs": [
    {
     "name": "stdout",
     "output_type": "stream",
     "text": [
      "x es un numero positovo de un solo dijito\n"
     ]
    }
   ],
   "source": [
    "if 0 < x:\n",
    "        if x < 10:\n",
    "            print(\"x es un numero positovo de un solo dijito\")"
   ]
  },
  {
   "cell_type": "code",
   "execution_count": 8,
   "id": "47ee2bb1",
   "metadata": {},
   "outputs": [
    {
     "name": "stdout",
     "output_type": "stream",
     "text": [
      "x es un numero positovo de un solo dijito\n"
     ]
    }
   ],
   "source": [
    "x = 7\n",
    "if 0 < x and x < 10:\n",
    "    print(\"x es un numero positovo de un solo dijito\")"
   ]
  },
  {
   "cell_type": "code",
   "execution_count": null,
   "id": "59f46435",
   "metadata": {},
   "outputs": [],
   "source": [
    "for x in range(0, 3):\n",
    "    print(\"estamos en la interaccion\" + str(x))"
   ]
  },
  {
   "cell_type": "code",
   "execution_count": 1,
   "id": "1f42b3f9",
   "metadata": {},
   "outputs": [
    {
     "name": "stdout",
     "output_type": "stream",
     "text": [
      "5 es impar.\n"
     ]
    }
   ],
   "source": [
    "n = int(input(\"Ingrese un número: \"))\n",
    "\n",
    "if n % 2 == 0:\n",
    "    print(n, \"es par.\")\n",
    "else:\n",
    "    print(n, \"es impar.\")"
   ]
  }
 ],
 "metadata": {
  "kernelspec": {
   "display_name": "Python 3.9.12 ('base')",
   "language": "python",
   "name": "python3"
  },
  "language_info": {
   "codemirror_mode": {
    "name": "ipython",
    "version": 3
   },
   "file_extension": ".py",
   "mimetype": "text/x-python",
   "name": "python",
   "nbconvert_exporter": "python",
   "pygments_lexer": "ipython3",
   "version": "3.11.0"
  },
  "vscode": {
   "interpreter": {
    "hash": "6018457a9cf31c4f12b198deda590ba24c2cc27a9da71629eaeb4f113d477133"
   }
  }
 },
 "nbformat": 4,
 "nbformat_minor": 5
}
