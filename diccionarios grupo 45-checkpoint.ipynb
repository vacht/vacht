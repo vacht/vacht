{
 "cells": [
  {
   "cell_type": "code",
   "execution_count": 1,
   "id": "596ecd52",
   "metadata": {},
   "outputs": [],
   "source": [
    "diccionario = {}"
   ]
  },
  {
   "cell_type": "code",
   "execution_count": 2,
   "id": "d60d0838",
   "metadata": {},
   "outputs": [
    {
     "name": "stdout",
     "output_type": "stream",
     "text": [
      "{}\n"
     ]
    }
   ],
   "source": [
    "print(diccionario)"
   ]
  },
  {
   "cell_type": "code",
   "execution_count": 3,
   "id": "8c960ee0",
   "metadata": {},
   "outputs": [],
   "source": [
    "diccionario = dict()"
   ]
  },
  {
   "cell_type": "code",
   "execution_count": 4,
   "id": "32db48e2",
   "metadata": {},
   "outputs": [
    {
     "data": {
      "text/plain": [
       "{}"
      ]
     },
     "execution_count": 4,
     "metadata": {},
     "output_type": "execute_result"
    }
   ],
   "source": [
    "diccionario"
   ]
  },
  {
   "cell_type": "code",
   "execution_count": 5,
   "id": "8519e1ca",
   "metadata": {},
   "outputs": [
    {
     "name": "stdout",
     "output_type": "stream",
     "text": [
      "{'total': 55}\n",
      "{'copia': 123.23}\n"
     ]
    }
   ],
   "source": [
    "diccionario = {\"total\": 55}\n",
    "print(diccionario)\n",
    "otrodiccionario = {\"copia\": 123.23}\n",
    "print(otrodiccionario)"
   ]
  },
  {
   "cell_type": "code",
   "execution_count": 6,
   "id": "512c786a",
   "metadata": {},
   "outputs": [
    {
     "name": "stdout",
     "output_type": "stream",
     "text": [
      "{'total': 55, 'descuento': True, 15: '15'}\n",
      "{'nombre': 7, 'telefono': 3363692, 'edad': 33, 'ciudad': 'pereira'}\n"
     ]
    }
   ],
   "source": [
    "diccionario = {\"total\": 55, \"descuento\": True, 15: \"15\"}\n",
    "\n",
    "print(diccionario)\n",
    "\n",
    "diccionarioejemploexcel ={\"nombre\": 5+2,\"telefono\":3363692, \"edad\":33,\"ciudad\":\"pereira\"}\n",
    "print(diccionarioejemploexcel)"
   ]
  },
  {
   "cell_type": "code",
   "execution_count": 7,
   "id": "7ba91735",
   "metadata": {},
   "outputs": [
    {
     "name": "stdout",
     "output_type": "stream",
     "text": [
      "{'total': 55, 'descuento': True, 'subtotal': 15}\n"
     ]
    }
   ],
   "source": [
    "diccionario = dict(total= 55, descuento=True, subtotal= 15)\n",
    "print(diccionario)"
   ]
  },
  {
   "cell_type": "code",
   "execution_count": 8,
   "id": "25e84764",
   "metadata": {},
   "outputs": [
    {
     "name": "stdout",
     "output_type": "stream",
     "text": [
      "{'total': 55, 10: 'curso de python', 2.0: True}\n"
     ]
    }
   ],
   "source": [
    "diccionario = {\"total\": 55, 10: \"curso de python\", 2.0: True}\n",
    "print(diccionario)"
   ]
  },
  {
   "cell_type": "code",
   "execution_count": null,
   "id": "a9a9a9bb",
   "metadata": {},
   "outputs": [],
   "source": []
  }
 ],
 "metadata": {
  "kernelspec": {
   "display_name": "Python 3.9.12 ('base')",
   "language": "python",
   "name": "python3"
  },
  "language_info": {
   "codemirror_mode": {
    "name": "ipython",
    "version": 3
   },
   "file_extension": ".py",
   "mimetype": "text/x-python",
   "name": "python",
   "nbconvert_exporter": "python",
   "pygments_lexer": "ipython3",
   "version": "3.9.12"
  },
  "vscode": {
   "interpreter": {
    "hash": "6018457a9cf31c4f12b198deda590ba24c2cc27a9da71629eaeb4f113d477133"
   }
  }
 },
 "nbformat": 4,
 "nbformat_minor": 5
}
