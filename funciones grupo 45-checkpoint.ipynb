{
 "cells": [
  {
   "cell_type": "code",
   "execution_count": 1,
   "id": "f4c04d28",
   "metadata": {},
   "outputs": [
    {
     "name": "stdout",
     "output_type": "stream",
     "text": [
      "500\n",
      "10\n"
     ]
    }
   ],
   "source": [
    "#fucion Max() y Min()\n",
    "var1 = 10 \n",
    "var2 = 30\n",
    "var3 = 120\n",
    "var4 = 500\n",
    "\n",
    "maximo = max(var1, var2, var3, var4)\n",
    "print(maximo)\n",
    "\n",
    "minimo = min(var1, var2, var3, var4)\n",
    "print(minimo)"
   ]
  },
  {
   "cell_type": "code",
   "execution_count": 2,
   "id": "19ff419e",
   "metadata": {},
   "outputs": [
    {
     "name": "stdout",
     "output_type": "stream",
     "text": [
      "Help on built-in function print in module builtins:\n",
      "\n",
      "print(...)\n",
      "    print(value, ..., sep=' ', end='\\n', file=sys.stdout, flush=False)\n",
      "    \n",
      "    Prints the values to a stream, or to sys.stdout by default.\n",
      "    Optional keyword arguments:\n",
      "    file:  a file-like object (stream); defaults to the current sys.stdout.\n",
      "    sep:   string inserted between values, default a space.\n",
      "    end:   string appended after the last value, default a newline.\n",
      "    flush: whether to forcibly flush the stream.\n",
      "\n"
     ]
    }
   ],
   "source": [
    "help(print)"
   ]
  },
  {
   "cell_type": "code",
   "execution_count": 3,
   "id": "b4ff4cbf",
   "metadata": {},
   "outputs": [
    {
     "name": "stdout",
     "output_type": "stream",
     "text": [
      "Help on built-in function max in module builtins:\n",
      "\n",
      "max(...)\n",
      "    max(iterable, *[, default=obj, key=func]) -> value\n",
      "    max(arg1, arg2, *args, *[, key=func]) -> value\n",
      "    \n",
      "    With a single iterable argument, return its biggest item. The\n",
      "    default keyword-only argument specifies an object to return if\n",
      "    the provided iterable is empty.\n",
      "    With two or more arguments, return the largest argument.\n",
      "\n"
     ]
    }
   ],
   "source": [
    "help(max)"
   ]
  },
  {
   "cell_type": "code",
   "execution_count": 4,
   "id": "497e779d",
   "metadata": {},
   "outputs": [
    {
     "name": "stdout",
     "output_type": "stream",
     "text": [
      "Help on built-in function min in module builtins:\n",
      "\n",
      "min(...)\n",
      "    min(iterable, *[, default=obj, key=func]) -> value\n",
      "    min(arg1, arg2, *args, *[, key=func]) -> value\n",
      "    \n",
      "    With a single iterable argument, return its smallest item. The\n",
      "    default keyword-only argument specifies an object to return if\n",
      "    the provided iterable is empty.\n",
      "    With two or more arguments, return the smallest argument.\n",
      "\n"
     ]
    }
   ],
   "source": [
    "help(min)"
   ]
  },
  {
   "cell_type": "code",
   "execution_count": 5,
   "id": "43df5107",
   "metadata": {},
   "outputs": [
    {
     "name": "stdout",
     "output_type": "stream",
     "text": [
      "Help on class type in module builtins:\n",
      "\n",
      "class type(object)\n",
      " |  type(object) -> the object's type\n",
      " |  type(name, bases, dict, **kwds) -> a new type\n",
      " |  \n",
      " |  Methods defined here:\n",
      " |  \n",
      " |  __call__(self, /, *args, **kwargs)\n",
      " |      Call self as a function.\n",
      " |  \n",
      " |  __delattr__(self, name, /)\n",
      " |      Implement delattr(self, name).\n",
      " |  \n",
      " |  __dir__(self, /)\n",
      " |      Specialized __dir__ implementation for types.\n",
      " |  \n",
      " |  __getattribute__(self, name, /)\n",
      " |      Return getattr(self, name).\n",
      " |  \n",
      " |  __init__(self, /, *args, **kwargs)\n",
      " |      Initialize self.  See help(type(self)) for accurate signature.\n",
      " |  \n",
      " |  __instancecheck__(self, instance, /)\n",
      " |      Check if an object is an instance.\n",
      " |  \n",
      " |  __repr__(self, /)\n",
      " |      Return repr(self).\n",
      " |  \n",
      " |  __setattr__(self, name, value, /)\n",
      " |      Implement setattr(self, name, value).\n",
      " |  \n",
      " |  __sizeof__(self, /)\n",
      " |      Return memory consumption of the type object.\n",
      " |  \n",
      " |  __subclasscheck__(self, subclass, /)\n",
      " |      Check if a class is a subclass.\n",
      " |  \n",
      " |  __subclasses__(self, /)\n",
      " |      Return a list of immediate subclasses.\n",
      " |  \n",
      " |  mro(self, /)\n",
      " |      Return a type's method resolution order.\n",
      " |  \n",
      " |  ----------------------------------------------------------------------\n",
      " |  Class methods defined here:\n",
      " |  \n",
      " |  __prepare__(...)\n",
      " |      __prepare__() -> dict\n",
      " |      used to create the namespace for the class statement\n",
      " |  \n",
      " |  ----------------------------------------------------------------------\n",
      " |  Static methods defined here:\n",
      " |  \n",
      " |  __new__(*args, **kwargs)\n",
      " |      Create and return a new object.  See help(type) for accurate signature.\n",
      " |  \n",
      " |  ----------------------------------------------------------------------\n",
      " |  Data descriptors defined here:\n",
      " |  \n",
      " |  __abstractmethods__\n",
      " |  \n",
      " |  __dict__\n",
      " |  \n",
      " |  __text_signature__\n",
      " |  \n",
      " |  ----------------------------------------------------------------------\n",
      " |  Data and other attributes defined here:\n",
      " |  \n",
      " |  __base__ = <class 'object'>\n",
      " |      The base class of the class hierarchy.\n",
      " |      \n",
      " |      When called, it accepts no arguments and returns a new featureless\n",
      " |      instance that has no instance attributes and cannot be given any.\n",
      " |  \n",
      " |  \n",
      " |  __bases__ = (<class 'object'>,)\n",
      " |  \n",
      " |  __basicsize__ = 440\n",
      " |  \n",
      " |  __dictoffset__ = 132\n",
      " |  \n",
      " |  __flags__ = 2148293632\n",
      " |  \n",
      " |  __itemsize__ = 20\n",
      " |  \n",
      " |  __mro__ = (<class 'type'>, <class 'object'>)\n",
      " |  \n",
      " |  __weakrefoffset__ = 184\n",
      "\n"
     ]
    }
   ],
   "source": [
    "help(type)"
   ]
  },
  {
   "cell_type": "code",
   "execution_count": 6,
   "id": "cdf8bc1a",
   "metadata": {},
   "outputs": [
    {
     "data": {
      "text/plain": [
       "660"
      ]
     },
     "execution_count": 6,
     "metadata": {},
     "output_type": "execute_result"
    }
   ],
   "source": [
    "var1 = 10\n",
    "var2 = 30\n",
    "var3 = 120\n",
    "var4 = 500\n",
    "sum((var1, var2, var3, var4))"
   ]
  },
  {
   "cell_type": "code",
   "execution_count": 7,
   "id": "d333c7c4",
   "metadata": {},
   "outputs": [
    {
     "name": "stdout",
     "output_type": "stream",
     "text": [
      "range(0, 5)\n"
     ]
    }
   ],
   "source": [
    "x = range(5) #devuelve los numeros del 0 al 4\n",
    "print(x)"
   ]
  },
  {
   "cell_type": "code",
   "execution_count": 8,
   "id": "c5f0d302",
   "metadata": {},
   "outputs": [
    {
     "name": "stdout",
     "output_type": "stream",
     "text": [
      "range(0, 5)\n"
     ]
    },
    {
     "data": {
      "text/plain": [
       "5"
      ]
     },
     "execution_count": 8,
     "metadata": {},
     "output_type": "execute_result"
    }
   ],
   "source": [
    "x = range(0,5)\n",
    "print(x)\n",
    "len(x) #tendra un tamaño de 5 numeros {0, 1, 2, 3, 4}"
   ]
  },
  {
   "cell_type": "code",
   "execution_count": 9,
   "id": "1a000a10",
   "metadata": {},
   "outputs": [],
   "source": [
    "def NOMBRE (parametro1, parametro2):\n",
    "    sentencias\n",
    "    return [expresion]"
   ]
  },
  {
   "cell_type": "code",
   "execution_count": 10,
   "id": "e4972485",
   "metadata": {},
   "outputs": [
    {
     "name": "stdout",
     "output_type": "stream",
     "text": [
      "12\n",
      "12\n",
      "35\n"
     ]
    }
   ],
   "source": [
    "def sumar_numeros(num1, num2):\n",
    "    suma= num1 + num2\n",
    "    return suma\n",
    "print(sumar_numeros(5, 7))\n",
    "print(sumar_numeros(4, 8))\n",
    "print(sumar_numeros(15, 20))"
   ]
  },
  {
   "cell_type": "code",
   "execution_count": 11,
   "id": "0d99d993",
   "metadata": {},
   "outputs": [
    {
     "ename": "SyntaxError",
     "evalue": "duplicate argument 'parametro' in function definition (2414648014.py, line 2)",
     "output_type": "error",
     "traceback": [
      "\u001b[1;36m  Input \u001b[1;32mIn [11]\u001b[1;36m\u001b[0m\n\u001b[1;33m    def func(parametro, parametro):\u001b[0m\n\u001b[1;37m    ^\u001b[0m\n\u001b[1;31mSyntaxError\u001b[0m\u001b[1;31m:\u001b[0m duplicate argument 'parametro' in function definition\n"
     ]
    }
   ],
   "source": [
    "#crear una funcion:\n",
    "def func(parametro, parametro):\n",
    "    #codigo de la funcion <-- identacion o sangria\n",
    "    return\n",
    "\n",
    "#llamar la funcion:\n",
    "func(argumento, argumento)\n",
    "\n",
    "#almacenar el retorno de la funcion (si tiene uno):\n",
    "variable = func(argumento, argumento)"
   ]
  },
  {
   "cell_type": "code",
   "execution_count": 5,
   "id": "3e11fb59",
   "metadata": {},
   "outputs": [
    {
     "name": "stdout",
     "output_type": "stream",
     "text": [
      "la clase esta genial\n",
      "Python es lo maximo\n",
      "la clase esta genial\n",
      "Python es lo maximo\n"
     ]
    }
   ],
   "source": [
    "def imprime_cosas():\n",
    "    print(\"la clase esta genial\")\n",
    "    print(\"Python es lo maximo\")\n",
    "    \n",
    "    \n",
    "def repetir_funciones():\n",
    "    imprime_cosas()\n",
    "    imprime_cosas()\n",
    "    \n",
    "repetir_funciones()"
   ]
  },
  {
   "cell_type": "code",
   "execution_count": 14,
   "id": "023ecdfd",
   "metadata": {},
   "outputs": [
    {
     "data": {
      "text/plain": [
       "40"
      ]
     },
     "execution_count": 14,
     "metadata": {},
     "output_type": "execute_result"
    }
   ],
   "source": [
    "def suma(a, b):\n",
    "    return a + b \n",
    "\n",
    "suma(30, 10)"
   ]
  },
  {
   "cell_type": "code",
   "execution_count": 15,
   "id": "df82c4c0",
   "metadata": {},
   "outputs": [
    {
     "name": "stdout",
     "output_type": "stream",
     "text": [
      "40\n"
     ]
    }
   ],
   "source": [
    "def suma(a, b):\n",
    "    return a + b\n",
    "print(suma(30, 10))"
   ]
  },
  {
   "cell_type": "code",
   "execution_count": 16,
   "id": "aac4429c",
   "metadata": {},
   "outputs": [
    {
     "data": {
      "text/plain": [
       "40"
      ]
     },
     "execution_count": 16,
     "metadata": {},
     "output_type": "execute_result"
    }
   ],
   "source": [
    "def suma(a, b):\n",
    "    return a + b\n",
    "b= 30\n",
    "a= 10\n",
    "suma(a, b)"
   ]
  },
  {
   "cell_type": "code",
   "execution_count": 17,
   "id": "11cbb5dc",
   "metadata": {},
   "outputs": [
    {
     "name": "stdout",
     "output_type": "stream",
     "text": [
      "40\n"
     ]
    }
   ],
   "source": [
    "def suma(a, b):\n",
    "    return a + b\n",
    "print(suma(b=30, a=10))"
   ]
  },
  {
   "cell_type": "code",
   "execution_count": 18,
   "id": "35389d4c",
   "metadata": {},
   "outputs": [
    {
     "ename": "NameError",
     "evalue": "name 'consultar_nombre_genero' is not defined",
     "output_type": "error",
     "traceback": [
      "\u001b[1;31m---------------------------------------------------------------------------\u001b[0m",
      "\u001b[1;31mNameError\u001b[0m                                 Traceback (most recent call last)",
      "Input \u001b[1;32mIn [18]\u001b[0m, in \u001b[0;36m<cell line: 4>\u001b[1;34m()\u001b[0m\n\u001b[0;32m      1\u001b[0m \u001b[38;5;66;03m# una fuincion que no hace nada (aun)\u001b[39;00m\n\u001b[0;32m      2\u001b[0m \u001b[38;5;28;01mdef\u001b[39;00m \u001b[38;5;21mconsutar_nombre_generto\u001b[39m(letra_genero): \u001b[38;5;28;01mpass\u001b[39;00m\n\u001b[1;32m----> 4\u001b[0m \u001b[38;5;28mtype\u001b[39m(\u001b[43mconsultar_nombre_genero\u001b[49m)\n\u001b[0;32m      5\u001b[0m consultar_nombre_genero(\u001b[38;5;124m\"\u001b[39m\u001b[38;5;124mM\u001b[39m\u001b[38;5;124m\"\u001b[39m)\n",
      "\u001b[1;31mNameError\u001b[0m: name 'consultar_nombre_genero' is not defined"
     ]
    }
   ],
   "source": [
    "# una fuincion que no hace nada (aun)\n",
    "def consutar_nombre_generto(letra_genero): pass\n",
    "\n",
    "type(consultar_nombre_genero)\n",
    "consultar_nombre_genero(\"M\")"
   ]
  },
  {
   "cell_type": "code",
   "execution_count": 19,
   "id": "7aa9f6cb",
   "metadata": {},
   "outputs": [
    {
     "name": "stdout",
     "output_type": "stream",
     "text": [
      "11\n",
      "\n",
      "\n",
      "None\n"
     ]
    }
   ],
   "source": [
    "def otra_suma(numero1,numero2):\n",
    "    print(numero1 + numero2)\n",
    "    print(\"\\n\")\n",
    "    \n",
    "resultado = otra_suma(5, 6)\n",
    "print(resultado)"
   ]
  },
  {
   "cell_type": "code",
   "execution_count": 20,
   "id": "2fe1e9ae",
   "metadata": {},
   "outputs": [
    {
     "name": "stdout",
     "output_type": "stream",
     "text": [
      "11\n",
      "\n",
      "\n",
      "11\n"
     ]
    }
   ],
   "source": [
    "def otra_suma(numero1, numero2):\n",
    "    print(numero1 + numero2)\n",
    "    print(\"\\n\")\n",
    "    return numero1 + numero2\n",
    "resultado = otra_suma(5, 6)\n",
    "print(resultado)"
   ]
  },
  {
   "cell_type": "code",
   "execution_count": 21,
   "id": "cbb7c943",
   "metadata": {},
   "outputs": [
    {
     "name": "stdout",
     "output_type": "stream",
     "text": [
      "('David', 'Alvarez')\n"
     ]
    }
   ],
   "source": [
    "def mi_funcion(nombre, apellido):\n",
    "    # algoritmo\n",
    "    nombre_completo = nombre, apellido\n",
    "    print(nombre_completo)\n",
    "    \n",
    "mi_funcion(\"David\", \"Alvarez\")"
   ]
  },
  {
   "cell_type": "code",
   "execution_count": 22,
   "id": "10e93969",
   "metadata": {},
   "outputs": [
    {
     "ename": "NameError",
     "evalue": "name 'nombre' is not defined",
     "output_type": "error",
     "traceback": [
      "\u001b[1;31m---------------------------------------------------------------------------\u001b[0m",
      "\u001b[1;31mNameError\u001b[0m                                 Traceback (most recent call last)",
      "Input \u001b[1;32mIn [22]\u001b[0m, in \u001b[0;36m<cell line: 6>\u001b[1;34m()\u001b[0m\n\u001b[0;32m      3\u001b[0m     nombre_completo \u001b[38;5;241m=\u001b[39m nombre, apellido\n\u001b[0;32m      4\u001b[0m     \u001b[38;5;28mprint\u001b[39m(nombre_completo)\n\u001b[1;32m----> 6\u001b[0m \u001b[38;5;28mprint\u001b[39m(\u001b[43mnombre\u001b[49m)\n",
      "\u001b[1;31mNameError\u001b[0m: name 'nombre' is not defined"
     ]
    }
   ],
   "source": [
    "def mi_funcion(nombre, apellido):\n",
    "    # algoritmo\n",
    "    nombre_completo = nombre, apellido\n",
    "    print(nombre_completo)\n",
    "    \n",
    "print(nombre)"
   ]
  },
  {
   "cell_type": "code",
   "execution_count": 23,
   "id": "ce491e1c",
   "metadata": {},
   "outputs": [
    {
     "name": "stdout",
     "output_type": "stream",
     "text": [
      "hola Gamer\n"
     ]
    }
   ],
   "source": [
    "def saludar(nombre, mensaje = \"hola\"):\n",
    "    print(mensaje, nombre)\n",
    "    \n",
    "saludar(\"Gamer\")"
   ]
  },
  {
   "cell_type": "code",
   "execution_count": 24,
   "id": "d0530095",
   "metadata": {},
   "outputs": [
    {
     "name": "stdout",
     "output_type": "stream",
     "text": [
      "Buen dia Juan\n"
     ]
    }
   ],
   "source": [
    "def saludar(nombre, mensaje=\"hola\"):\n",
    "    print(mensaje, nombre)\n",
    "    \n",
    "saludar(mensaje=\"Buen dia\", nombre=\"Juan\")"
   ]
  },
  {
   "cell_type": "code",
   "execution_count": 25,
   "id": "5f7163cf",
   "metadata": {},
   "outputs": [
    {
     "name": "stdout",
     "output_type": "stream",
     "text": [
      "Emil Gonzales\n",
      "Tobias Gonzales\n",
      "Linus Gonzales\n"
     ]
    }
   ],
   "source": [
    "def my_function(fname):\n",
    "    print (fname + \"Gonzales\")\n",
    "    \n",
    "my_function(\"Emil \")\n",
    "my_function(\"Tobias \")\n",
    "my_function(\"Linus \")"
   ]
  },
  {
   "cell_type": "code",
   "execution_count": 26,
   "id": "6c78415a",
   "metadata": {},
   "outputs": [
    {
     "name": "stdout",
     "output_type": "stream",
     "text": [
      "Emil Henao\n"
     ]
    }
   ],
   "source": [
    "def my_function(fname, lname):\n",
    "    print(fname +\" \"+ lname)\n",
    "    \n",
    "my_function(\"Emil\", \"Henao\")"
   ]
  },
  {
   "cell_type": "code",
   "execution_count": 27,
   "id": "f9dd07a9",
   "metadata": {},
   "outputs": [
    {
     "ename": "TypeError",
     "evalue": "my_function() missing 1 required positional argument: 'lname'",
     "output_type": "error",
     "traceback": [
      "\u001b[1;31m---------------------------------------------------------------------------\u001b[0m",
      "\u001b[1;31mTypeError\u001b[0m                                 Traceback (most recent call last)",
      "Input \u001b[1;32mIn [27]\u001b[0m, in \u001b[0;36m<cell line: 4>\u001b[1;34m()\u001b[0m\n\u001b[0;32m      1\u001b[0m \u001b[38;5;28;01mdef\u001b[39;00m \u001b[38;5;21mmy_function\u001b[39m(fname, lname):\n\u001b[0;32m      2\u001b[0m     \u001b[38;5;28mprint\u001b[39m(fname \u001b[38;5;241m+\u001b[39m\u001b[38;5;124m\"\u001b[39m\u001b[38;5;124m \u001b[39m\u001b[38;5;124m\"\u001b[39m\u001b[38;5;241m+\u001b[39m lname)\n\u001b[1;32m----> 4\u001b[0m \u001b[43mmy_function\u001b[49m\u001b[43m(\u001b[49m\u001b[38;5;124;43m\"\u001b[39;49m\u001b[38;5;124;43mEmil\u001b[39;49m\u001b[38;5;124;43m\"\u001b[39;49m\u001b[43m)\u001b[49m\n",
      "\u001b[1;31mTypeError\u001b[0m: my_function() missing 1 required positional argument: 'lname'"
     ]
    }
   ],
   "source": [
    "def my_function(fname, lname):\n",
    "    print(fname +\" \"+ lname)\n",
    "    \n",
    "my_function(\"Emil\")"
   ]
  },
  {
   "cell_type": "code",
   "execution_count": null,
   "id": "6d231261",
   "metadata": {},
   "outputs": [],
   "source": []
  }
 ],
 "metadata": {
  "kernelspec": {
   "display_name": "Python 3.9.12 ('base')",
   "language": "python",
   "name": "python3"
  },
  "language_info": {
   "codemirror_mode": {
    "name": "ipython",
    "version": 3
   },
   "file_extension": ".py",
   "mimetype": "text/x-python",
   "name": "python",
   "nbconvert_exporter": "python",
   "pygments_lexer": "ipython3",
   "version": "3.9.12"
  },
  "vscode": {
   "interpreter": {
    "hash": "6018457a9cf31c4f12b198deda590ba24c2cc27a9da71629eaeb4f113d477133"
   }
  }
 },
 "nbformat": 4,
 "nbformat_minor": 5
}
