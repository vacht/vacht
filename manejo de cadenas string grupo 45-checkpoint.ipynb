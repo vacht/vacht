{
 "cells": [
  {
   "cell_type": "code",
   "execution_count": 3,
   "id": "ab97390d",
   "metadata": {},
   "outputs": [],
   "source": [
    "fruta = \"fresa\"\n"
   ]
  },
  {
   "cell_type": "code",
   "execution_count": 4,
   "id": "bb498f9d",
   "metadata": {},
   "outputs": [
    {
     "name": "stdout",
     "output_type": "stream",
     "text": [
      "a\n"
     ]
    }
   ],
   "source": [
    "letra = fruta[4]\n",
    "print(letra)"
   ]
  },
  {
   "cell_type": "code",
   "execution_count": 5,
   "id": "171a137d",
   "metadata": {},
   "outputs": [],
   "source": [
    "fruta = \"banana\""
   ]
  },
  {
   "cell_type": "code",
   "execution_count": 6,
   "id": "c5a557cb",
   "metadata": {},
   "outputs": [
    {
     "name": "stdout",
     "output_type": "stream",
     "text": [
      "b\n"
     ]
    }
   ],
   "source": [
    "letra = fruta[0]\n",
    "print(letra)"
   ]
  },
  {
   "cell_type": "code",
   "execution_count": 7,
   "id": "1790670b",
   "metadata": {},
   "outputs": [
    {
     "ename": "TypeError",
     "evalue": "string indices must be integers",
     "output_type": "error",
     "traceback": [
      "\u001b[1;31m---------------------------------------------------------------------------\u001b[0m",
      "\u001b[1;31mTypeError\u001b[0m                                 Traceback (most recent call last)",
      "Input \u001b[1;32mIn [7]\u001b[0m, in \u001b[0;36m<cell line: 1>\u001b[1;34m()\u001b[0m\n\u001b[1;32m----> 1\u001b[0m letra \u001b[38;5;241m=\u001b[39m \u001b[43mfruta\u001b[49m\u001b[43m[\u001b[49m\u001b[38;5;241;43m1.5\u001b[39;49m\u001b[43m]\u001b[49m\n",
      "\u001b[1;31mTypeError\u001b[0m: string indices must be integers"
     ]
    }
   ],
   "source": [
    "letra = fruta[1.5]"
   ]
  },
  {
   "cell_type": "code",
   "execution_count": 3,
   "id": "47bcde8c",
   "metadata": {},
   "outputs": [
    {
     "data": {
      "text/plain": [
       "6"
      ]
     },
     "execution_count": 3,
     "metadata": {},
     "output_type": "execute_result"
    }
   ],
   "source": [
    "fruta = \"banana\"\n",
    "len(fruta)"
   ]
  },
  {
   "cell_type": "code",
   "execution_count": 4,
   "id": "e210e5c2",
   "metadata": {},
   "outputs": [
    {
     "ename": "IndexError",
     "evalue": "string index out of range",
     "output_type": "error",
     "traceback": [
      "\u001b[1;31m---------------------------------------------------------------------------\u001b[0m",
      "\u001b[1;31mIndexError\u001b[0m                                Traceback (most recent call last)",
      "Input \u001b[1;32mIn [4]\u001b[0m, in \u001b[0;36m<cell line: 2>\u001b[1;34m()\u001b[0m\n\u001b[0;32m      1\u001b[0m longitud \u001b[38;5;241m=\u001b[39m \u001b[38;5;28mlen\u001b[39m(fruta)\n\u001b[1;32m----> 2\u001b[0m ultimo \u001b[38;5;241m=\u001b[39m \u001b[43mfruta\u001b[49m\u001b[43m[\u001b[49m\u001b[43mlongitud\u001b[49m\u001b[43m]\u001b[49m\n",
      "\u001b[1;31mIndexError\u001b[0m: string index out of range"
     ]
    }
   ],
   "source": [
    "longitud = len(fruta)\n",
    "ultimo = fruta[longitud]"
   ]
  },
  {
   "cell_type": "code",
   "execution_count": 5,
   "id": "f65e392f",
   "metadata": {},
   "outputs": [
    {
     "name": "stdout",
     "output_type": "stream",
     "text": [
      "a\n"
     ]
    }
   ],
   "source": [
    "ultimo = fruta [longitud -1]\n",
    "print(ultimo)"
   ]
  },
  {
   "cell_type": "code",
   "execution_count": 6,
   "id": "6871803e",
   "metadata": {},
   "outputs": [
    {
     "name": "stdout",
     "output_type": "stream",
     "text": [
      "b\n"
     ]
    }
   ],
   "source": [
    "ultimo = fruta [longitud -6]\n",
    "print(ultimo)"
   ]
  },
  {
   "cell_type": "code",
   "execution_count": 7,
   "id": "388e6d5d",
   "metadata": {},
   "outputs": [
    {
     "name": "stdout",
     "output_type": "stream",
     "text": [
      "Monty\n"
     ]
    }
   ],
   "source": [
    "s = \"Monty Python\"\n",
    "print(s[0:5])"
   ]
  },
  {
   "cell_type": "code",
   "execution_count": 8,
   "id": "96c368b5",
   "metadata": {},
   "outputs": [
    {
     "name": "stdout",
     "output_type": "stream",
     "text": [
      "Python\n"
     ]
    }
   ],
   "source": [
    "print(s[6:12])"
   ]
  },
  {
   "cell_type": "code",
   "execution_count": 9,
   "id": "b9f44069",
   "metadata": {},
   "outputs": [
    {
     "data": {
      "text/plain": [
       "'ban'"
      ]
     },
     "execution_count": 9,
     "metadata": {},
     "output_type": "execute_result"
    }
   ],
   "source": [
    " fruta = \"banana\"\n",
    "fruta[:3]"
   ]
  },
  {
   "cell_type": "code",
   "execution_count": 10,
   "id": "9c60b128",
   "metadata": {},
   "outputs": [
    {
     "data": {
      "text/plain": [
       "'ana'"
      ]
     },
     "execution_count": 10,
     "metadata": {},
     "output_type": "execute_result"
    }
   ],
   "source": [
    "fruta[3:]"
   ]
  },
  {
   "cell_type": "code",
   "execution_count": 11,
   "id": "6951ed2a",
   "metadata": {},
   "outputs": [
    {
     "data": {
      "text/plain": [
       "''"
      ]
     },
     "execution_count": 11,
     "metadata": {},
     "output_type": "execute_result"
    }
   ],
   "source": [
    "fruta = \"banana\"\n",
    "fruta[3:3]"
   ]
  },
  {
   "cell_type": "code",
   "execution_count": 12,
   "id": "99c1b7fe",
   "metadata": {},
   "outputs": [
    {
     "name": "stdout",
     "output_type": "stream",
     "text": [
      "esta bien, bananas\n"
     ]
    }
   ],
   "source": [
    "palabra = \"banana\"\n",
    "if palabra == \"banana\":\n",
    "    print(\"esta bien, bananas\")"
   ]
  },
  {
   "cell_type": "code",
   "execution_count": 18,
   "id": "c8e0e986",
   "metadata": {},
   "outputs": [
    {
     "name": "stdout",
     "output_type": "stream",
     "text": [
      "introduzca una palabra: piña\n",
      "su palabra,piña,viene despues de banana\n"
     ]
    }
   ],
   "source": [
    "palabra = input(\"introduzca una palabra: \")\n",
    "\n",
    "if palabra < \"banana\":\n",
    "    print(\"tu palabra,\" + palabra + \",viene antes de banana\")\n",
    "elif palabra > \"banana\":\n",
    "    print(\"su palabra,\" + palabra + \",viene despues de banana\")\n",
    "else:\n",
    "    print(\"Esta bien, su palabra es banana\")"
   ]
  },
  {
   "cell_type": "code",
   "execution_count": 19,
   "id": "b7515955",
   "metadata": {},
   "outputs": [
    {
     "name": "stdout",
     "output_type": "stream",
     "text": [
      "introduzca una palabra: pera\n",
      "su palabra,pera,viene despues de banana\n"
     ]
    }
   ],
   "source": [
    " palabra = input(\"introduzca una palabra: \")\n",
    "\n",
    "if palabra < \"banana\":\n",
    "    print(\"tu palabra,\" + palabra + \",viene antes de banana\")\n",
    "elif palabra > \"banana\":\n",
    "    print(\"su palabra,\" + palabra + \",viene despues de banana\")\n",
    "else:\n",
    "    print(\"Esta bien, su palabra es banana\")"
   ]
  },
  {
   "cell_type": "code",
   "execution_count": 20,
   "id": "3518f561",
   "metadata": {},
   "outputs": [
    {
     "name": "stdout",
     "output_type": "stream",
     "text": [
      "introduzca una palabra: banana\n",
      "Esta bien, su palabra es banana\n"
     ]
    }
   ],
   "source": [
    "palabra = input(\"introduzca una palabra: \")\n",
    "\n",
    "if palabra < \"banana\":\n",
    "    print(\"tu palabra,\" + palabra + \",viene antes de banana\")\n",
    "elif palabra > \"banana\":\n",
    "    print(\"su palabra,\" + palabra + \",viene despues de banana\")\n",
    "else:\n",
    "    print(\"Esta bien, su palabra es banana\")"
   ]
  },
  {
   "cell_type": "code",
   "execution_count": 21,
   "id": "6c736153",
   "metadata": {},
   "outputs": [
    {
     "name": "stdout",
     "output_type": "stream",
     "text": [
      "<class 'str'>\n"
     ]
    }
   ],
   "source": [
    "cadena = \"Hola mundo\"\n",
    "print(type(cadena))"
   ]
  },
  {
   "cell_type": "code",
   "execution_count": 22,
   "id": "d867d0d2",
   "metadata": {},
   "outputs": [
    {
     "name": "stdout",
     "output_type": "stream",
     "text": [
      "BANANA\n"
     ]
    }
   ],
   "source": [
    "palavra = \"piña\"\n",
    "palabra_nueva = palabra.upper()\n",
    "print(palabra_nueva)"
   ]
  },
  {
   "cell_type": "code",
   "execution_count": 23,
   "id": "ac1b34bb",
   "metadata": {},
   "outputs": [
    {
     "name": "stdout",
     "output_type": "stream",
     "text": [
      "3\n"
     ]
    }
   ],
   "source": [
    "palabra = \"piña\"\n",
    "index = palabra.find(\"a\")\n",
    "print(index)"
   ]
  },
  {
   "cell_type": "code",
   "execution_count": 24,
   "id": "8999a15c",
   "metadata": {},
   "outputs": [
    {
     "data": {
      "text/plain": [
       "0"
      ]
     },
     "execution_count": 24,
     "metadata": {},
     "output_type": "execute_result"
    }
   ],
   "source": [
    "palabra.find(\"pi\")"
   ]
  },
  {
   "cell_type": "code",
   "execution_count": 25,
   "id": "a6dd91c2",
   "metadata": {},
   "outputs": [
    {
     "data": {
      "text/plain": [
       "'AQUI VAMOS'"
      ]
     },
     "execution_count": 25,
     "metadata": {},
     "output_type": "execute_result"
    }
   ],
   "source": [
    "linea = \"     AQUI VAMOS \"\n",
    "linea.strip()"
   ]
  },
  {
   "cell_type": "code",
   "execution_count": 26,
   "id": "d1c9d2ca",
   "metadata": {},
   "outputs": [
    {
     "data": {
      "text/plain": [
       "True"
      ]
     },
     "execution_count": 26,
     "metadata": {},
     "output_type": "execute_result"
    }
   ],
   "source": [
    "linea = \"Que tengas un buen dia\"\n",
    "linea.startswith(\"Que\")"
   ]
  },
  {
   "cell_type": "code",
   "execution_count": 27,
   "id": "196ccddb",
   "metadata": {},
   "outputs": [
    {
     "data": {
      "text/plain": [
       "False"
      ]
     },
     "execution_count": 27,
     "metadata": {},
     "output_type": "execute_result"
    }
   ],
   "source": [
    "linea.startswith(\"q\")"
   ]
  },
  {
   "cell_type": "code",
   "execution_count": 28,
   "id": "cb010502",
   "metadata": {},
   "outputs": [
    {
     "data": {
      "text/plain": [
       "False"
      ]
     },
     "execution_count": 28,
     "metadata": {},
     "output_type": "execute_result"
    }
   ],
   "source": [
    "linea = \"Que Tengas un buen dia\"\n",
    "linea.startswith(\"t\")"
   ]
  },
  {
   "cell_type": "code",
   "execution_count": 29,
   "id": "741432b4",
   "metadata": {},
   "outputs": [
    {
     "data": {
      "text/plain": [
       "'que tengas un buen dia'"
      ]
     },
     "execution_count": 29,
     "metadata": {},
     "output_type": "execute_result"
    }
   ],
   "source": [
    "linea.lower()"
   ]
  },
  {
   "cell_type": "code",
   "execution_count": 30,
   "id": "cf133624",
   "metadata": {},
   "outputs": [
    {
     "data": {
      "text/plain": [
       "True"
      ]
     },
     "execution_count": 30,
     "metadata": {},
     "output_type": "execute_result"
    }
   ],
   "source": [
    "linea.lower().startswith(\"q\")"
   ]
  },
  {
   "cell_type": "code",
   "execution_count": 1,
   "id": "807e971b",
   "metadata": {},
   "outputs": [
    {
     "name": "stdout",
     "output_type": "stream",
     "text": [
      "19\n"
     ]
    }
   ],
   "source": [
    "data = \"De stephen.marquard@uct.ac.za Sat Jan 5 09:14:16 2008\"\n",
    "enlaposicion = data.find(\"@\")\n",
    "print(enlaposicion)"
   ]
  },
  {
   "cell_type": "code",
   "execution_count": 3,
   "id": "10e7a6b0",
   "metadata": {},
   "outputs": [
    {
     "name": "stdout",
     "output_type": "stream",
     "text": [
      "29\n"
     ]
    }
   ],
   "source": [
    "espacioenlaposicion = data.find(\" \", enlaposicion)\n",
    "print(espacioenlaposicion)"
   ]
  },
  {
   "cell_type": "code",
   "execution_count": 4,
   "id": "d24414bc",
   "metadata": {},
   "outputs": [
    {
     "name": "stdout",
     "output_type": "stream",
     "text": [
      "uct.ac.za\n"
     ]
    }
   ],
   "source": [
    "host = data[enlaposicion +1:espacioenlaposicion]\n",
    "print(host)"
   ]
  },
  {
   "cell_type": "code",
   "execution_count": 5,
   "id": "2a84f5b8",
   "metadata": {},
   "outputs": [
    {
     "data": {
      "text/plain": [
       "'42'"
      ]
     },
     "execution_count": 5,
     "metadata": {},
     "output_type": "execute_result"
    }
   ],
   "source": [
    "camellos = 42\n",
    "\"%d\" % camellos"
   ]
  },
  {
   "cell_type": "code",
   "execution_count": 6,
   "id": "d002fec5",
   "metadata": {},
   "outputs": [
    {
     "data": {
      "text/plain": [
       "'he visto 42 camellos'"
      ]
     },
     "execution_count": 6,
     "metadata": {},
     "output_type": "execute_result"
    }
   ],
   "source": [
    "camellos = 42\n",
    "\"he visto %d camellos\" % camellos"
   ]
  },
  {
   "cell_type": "code",
   "execution_count": 8,
   "id": "a41e1ed3",
   "metadata": {},
   "outputs": [
    {
     "name": "stdout",
     "output_type": "stream",
     "text": [
      "hola\n",
      "mundo\n"
     ]
    }
   ],
   "source": [
    "cadena = \"hola\\nmundo\"\n",
    "print(cadena)"
   ]
  },
  {
   "cell_type": "code",
   "execution_count": 9,
   "id": "6975cbb2",
   "metadata": {},
   "outputs": [
    {
     "name": "stdout",
     "output_type": "stream",
     "text": [
      "Hola\\nMundo\n"
     ]
    }
   ],
   "source": [
    "cadena2 = r\"Hola\\nMundo\"\n",
    "print(cadena2)"
   ]
  },
  {
   "cell_type": "code",
   "execution_count": 10,
   "id": "9bda0abe",
   "metadata": {},
   "outputs": [
    {
     "name": "stdout",
     "output_type": "stream",
     "text": [
      "4\n",
      "1\n",
      "3\n"
     ]
    }
   ],
   "source": [
    "cadena = \"un uno, un dos, un tres\"\n",
    "print(cadena.count(\"un\"))\n",
    "print(cadena.count(\"un\",10))\n",
    "print(cadena.count(\"un\",0,10))"
   ]
  },
  {
   "cell_type": "code",
   "execution_count": 13,
   "id": "20df7b7c",
   "metadata": {},
   "outputs": [
    {
     "name": "stdout",
     "output_type": "stream",
     "text": [
      "xxx xxxo, xxx dos, xxx tres\n",
      "xxx xxxo, un dos, un tres\n"
     ]
    }
   ],
   "source": [
    "cadena = \"un uno, un dos, un tres\"\n",
    "print(cadena.replace(\"un\", \"xxx\"))\n",
    "print(cadena.replace(\"un\", \"xxx\", 2))"
   ]
  },
  {
   "cell_type": "code",
   "execution_count": 15,
   "id": "2b125db6",
   "metadata": {},
   "outputs": [
    {
     "name": "stdout",
     "output_type": "stream",
     "text": [
      "el valor es12\n",
      "el valor es12.3456\n",
      "los valores son 1, 2 y 3\n",
      "los valores son 3, 2 y 1\n"
     ]
    }
   ],
   "source": [
    "#saca \"el valor es 12\n",
    "print(\"el valor es{}\".format(12))\n",
    "\n",
    "#saca \"el valor es 12.3456\n",
    "print(\"el valor es{}\".format(12.3456))\n",
    "\n",
    "print(\"los valores son {}, {} y {}\".format(1,2,3))\n",
    "\n",
    "print(\"los valores son {2}, {1} y {0}\".format(1,2,3))"
   ]
  },
  {
   "cell_type": "code",
   "execution_count": 16,
   "id": "2f5607e0",
   "metadata": {},
   "outputs": [
    {
     "name": "stdout",
     "output_type": "stream",
     "text": [
      "Hola Mundo\n"
     ]
    }
   ],
   "source": [
    "mensaje1 = 'Hola' + ' ' + 'Mundo'\n",
    "print(mensaje1)"
   ]
  },
  {
   "cell_type": "code",
   "execution_count": 17,
   "id": "3ed8f920",
   "metadata": {},
   "outputs": [
    {
     "name": "stdout",
     "output_type": "stream",
     "text": [
      "hola hola hola mundo\n"
     ]
    }
   ],
   "source": [
    "mensaje2a = 'hola ' * 3\n",
    "mensaje2b = 'mundo'\n",
    "print(mensaje2a + mensaje2b)"
   ]
  },
  {
   "cell_type": "code",
   "execution_count": 18,
   "id": "82bfae0f",
   "metadata": {},
   "outputs": [
    {
     "name": "stdout",
     "output_type": "stream",
     "text": [
      "hola mundo\n"
     ]
    }
   ],
   "source": [
    "mensaje3 = 'hola'\n",
    "mensaje3 += ' '\n",
    "mensaje3 += 'mundo'\n",
    "print(mensaje3)"
   ]
  },
  {
   "cell_type": "code",
   "execution_count": 1,
   "id": "d83a9d95",
   "metadata": {},
   "outputs": [
    {
     "name": "stdout",
     "output_type": "stream",
     "text": [
      "{'nombre': 'nombre dej usuario', 'edad': 23, 'curso': 'curso de python', 'skills': {'programacion': True, 'base_de_datos': False}, 'no medallas': 10}\n"
     ]
    }
   ],
   "source": [
    "usuario = {\n",
    "    'nombre': 'nombre dej usuario',\n",
    "    'edad': 23,\n",
    "    'curso': 'curso de python',\n",
    "    'skills':{\n",
    "        'programacion': True,\n",
    "        'base_de_datos':False \n",
    "    },\n",
    "    'no medallas': 10\n",
    "}\n",
    "print(usuario)"
   ]
  },
  {
   "cell_type": "code",
   "execution_count": 2,
   "id": "fd460046",
   "metadata": {},
   "outputs": [
    {
     "name": "stdout",
     "output_type": "stream",
     "text": [
      "curso de python\n",
      "{'programacion': True, 'base_de_datos': False}\n",
      "False\n"
     ]
    }
   ],
   "source": [
    "print(usuario['curso'])\n",
    "print(usuario['skills'])\n",
    "print(usuario['skills']['base_de_datos'])"
   ]
  },
  {
   "cell_type": "code",
   "execution_count": 3,
   "id": "7d6a9c82",
   "metadata": {},
   "outputs": [
    {
     "name": "stdout",
     "output_type": "stream",
     "text": [
      "{'tota': 55, 'descuento': True, 'descuento5': True, 'subtotal': '15'}\n",
      "15\n"
     ]
    }
   ],
   "source": [
    "diccionario = dict(tota=55, descuento=True, descuento5=True, subtotal='15')\n",
    "\n",
    "print(diccionario)\n",
    "print(diccionario['subtotal'])"
   ]
  },
  {
   "cell_type": "code",
   "execution_count": 4,
   "id": "3a181f59",
   "metadata": {},
   "outputs": [
    {
     "name": "stdout",
     "output_type": "stream",
     "text": [
      "{}\n",
      "mazda\n",
      "subaru\n",
      "{'marca': 'subaru'}\n"
     ]
    }
   ],
   "source": [
    "diccionario = dict()\n",
    "print(diccionario)\n",
    "\n",
    "diccionario['marca'] = 'mazda'\n",
    "print(diccionario['marca'])\n",
    "\n",
    "diccionario['marca'] = 'subaru'\n",
    "print(diccionario['marca'])\n",
    "\n",
    "print(diccionario)"
   ]
  },
  {
   "cell_type": "code",
   "execution_count": 5,
   "id": "c7ff4026",
   "metadata": {},
   "outputs": [
    {
     "name": "stdout",
     "output_type": "stream",
     "text": [
      "{'edudardo': 1, 'fernando': 2, 'uriel': 3, 'rafael': 4}\n"
     ]
    }
   ],
   "source": [
    "diccionario = {'edudardo': 1, 'fernando':2, 'uriel':3, 'rafael':4}\n",
    "print(diccionario)"
   ]
  },
  {
   "cell_type": "code",
   "execution_count": 6,
   "id": "d84daf96",
   "metadata": {},
   "outputs": [
    {
     "data": {
      "text/plain": [
       "dict_keys(['edudardo', 'fernando', 'uriel', 'rafael'])"
      ]
     },
     "execution_count": 6,
     "metadata": {},
     "output_type": "execute_result"
    }
   ],
   "source": [
    "diccionario.keys()"
   ]
  },
  {
   "cell_type": "code",
   "execution_count": 7,
   "id": "6e382764",
   "metadata": {},
   "outputs": [
    {
     "data": {
      "text/plain": [
       "dict_values([1, 2, 3, 4])"
      ]
     },
     "execution_count": 7,
     "metadata": {},
     "output_type": "execute_result"
    }
   ],
   "source": [
    "diccionario.values()"
   ]
  },
  {
   "cell_type": "code",
   "execution_count": 8,
   "id": "2a1dc9bf",
   "metadata": {},
   "outputs": [
    {
     "name": "stdout",
     "output_type": "stream",
     "text": [
      "{'clave1': 1234, 'cadena': True, 'clave3': 'valor 1'}\n",
      "<class 'dict'>\n"
     ]
    }
   ],
   "source": [
    "diccionario = {\n",
    "    'clave1':1234,\n",
    "    'cadena':True,\n",
    "    'clave3':'valor 1',\n",
    "}\n",
    "print(diccionario)\n",
    "print(type(diccionario))"
   ]
  },
  {
   "cell_type": "code",
   "execution_count": 9,
   "id": "9097abe8",
   "metadata": {},
   "outputs": [
    {
     "data": {
      "text/plain": [
       "1234"
      ]
     },
     "execution_count": 9,
     "metadata": {},
     "output_type": "execute_result"
    }
   ],
   "source": [
    "diccionario['clave1']"
   ]
  },
  {
   "cell_type": "code",
   "execution_count": 10,
   "id": "e1100a9b",
   "metadata": {},
   "outputs": [
    {
     "data": {
      "text/plain": [
       "'valor 1'"
      ]
     },
     "execution_count": 10,
     "metadata": {},
     "output_type": "execute_result"
    }
   ],
   "source": [
    "diccionario['clave3']"
   ]
  },
  {
   "cell_type": "code",
   "execution_count": 11,
   "id": "49cfbbbd",
   "metadata": {},
   "outputs": [
    {
     "data": {
      "text/plain": [
       "2.13"
      ]
     },
     "execution_count": 11,
     "metadata": {},
     "output_type": "execute_result"
    }
   ],
   "source": [
    "versiones = dict(python=2.7, zope=2.13, plones=5.1, django=2.1)\n",
    "versiones['zope']"
   ]
  },
  {
   "cell_type": "code",
   "execution_count": 12,
   "id": "9d8705bf",
   "metadata": {},
   "outputs": [
    {
     "name": "stdout",
     "output_type": "stream",
     "text": [
      "{'python': 2.7, 'zope': 2.13, 'plones': 5.1}\n"
     ]
    }
   ],
   "source": [
    "versiones = dict(python=2.7, zope=2.13, plones=5.1)\n",
    "print(versiones)"
   ]
  },
  {
   "cell_type": "code",
   "execution_count": 14,
   "id": "8ad50dbc",
   "metadata": {},
   "outputs": [
    {
     "name": "stdout",
     "output_type": "stream",
     "text": [
      "{}\n"
     ]
    }
   ],
   "source": [
    "versiones.clear()\n",
    "print(versiones)"
   ]
  },
  {
   "cell_type": "code",
   "execution_count": 15,
   "id": "876179c8",
   "metadata": {},
   "outputs": [
    {
     "name": "stdout",
     "output_type": "stream",
     "text": [
      "True\n"
     ]
    }
   ],
   "source": [
    "versiones = dict(python=2.7, zope=2.13, plones=5.1)\n",
    "otra_versiones = versiones.copy()\n",
    "print(versiones == otra_versiones)"
   ]
  },
  {
   "cell_type": "code",
   "execution_count": 17,
   "id": "698f19f4",
   "metadata": {},
   "outputs": [
    {
     "name": "stdout",
     "output_type": "stream",
     "text": [
      "{'python': 2.7, 'zope': 2.13, 'plones': 5.1}\n",
      "{'python': 2.7, 'zope': 2.13, 'plones': 5.1}\n"
     ]
    }
   ],
   "source": [
    "print(versiones)\n",
    "print(otra_versiones)"
   ]
  },
  {
   "cell_type": "code",
   "execution_count": 18,
   "id": "d5027061",
   "metadata": {},
   "outputs": [
    {
     "name": "stdout",
     "output_type": "stream",
     "text": [
      "Nuevo diccionario : {'python': None, 'zope': None, 'plone': None}\n",
      "Nuevo diccionario : {'python': None, 'zope': None, 'plone': None}\n"
     ]
    }
   ],
   "source": [
    "secuencia = ('python', 'zope', 'plone')\n",
    "versiones = dict.fromkeys(secuencia)\n",
    "print('Nuevo diccionario : %s' % str(versiones))\n",
    "print('Nuevo diccionario : {}'.format(str(versiones)))"
   ]
  },
  {
   "cell_type": "code",
   "execution_count": 19,
   "id": "a2c4e084",
   "metadata": {},
   "outputs": [
    {
     "name": "stdout",
     "output_type": "stream",
     "text": [
      "Nuevo diccionario: {'python': 0.1, 'zope': 0.1, 'plone': 0.1}\n"
     ]
    }
   ],
   "source": [
    "versiones = dict.fromkeys(secuencia, 0.1)\n",
    "print('Nuevo diccionario: %s' % str(versiones))"
   ]
  },
  {
   "cell_type": "code",
   "execution_count": 20,
   "id": "6d97bdca",
   "metadata": {},
   "outputs": [],
   "source": [
    "versiones = dict(python=2.7, zope=2.13, plones=5.1)\n",
    "versiones.get('plone')"
   ]
  },
  {
   "cell_type": "code",
   "execution_count": 21,
   "id": "da0811b3",
   "metadata": {},
   "outputs": [
    {
     "name": "stdout",
     "output_type": "stream",
     "text": [
      "None\n"
     ]
    }
   ],
   "source": [
    "print(versiones.get('php'))"
   ]
  },
  {
   "cell_type": "code",
   "execution_count": 22,
   "id": "140f0290",
   "metadata": {},
   "outputs": [
    {
     "data": {
      "text/plain": [
       "dict_items([('python', 2.7), ('zope', 2.13), ('plones', 5.1)])"
      ]
     },
     "execution_count": 22,
     "metadata": {},
     "output_type": "execute_result"
    }
   ],
   "source": [
    "versiones = dict(python=2.7, zope=2.13, plones=5.1)\n",
    "versiones.items()"
   ]
  },
  {
   "cell_type": "code",
   "execution_count": 23,
   "id": "44c8fecf",
   "metadata": {},
   "outputs": [
    {
     "data": {
      "text/plain": [
       "{'python': 2.7, 'zope': 2.13, 'plones': 5.1}"
      ]
     },
     "execution_count": 23,
     "metadata": {},
     "output_type": "execute_result"
    }
   ],
   "source": [
    "versiones = dict(python=2.7, zope=2.13, plones=5.1)\n",
    "versiones"
   ]
  },
  {
   "cell_type": "code",
   "execution_count": 26,
   "id": "43d9016e",
   "metadata": {},
   "outputs": [
    {
     "name": "stdout",
     "output_type": "stream",
     "text": [
      "2.13\n"
     ]
    },
    {
     "data": {
      "text/plain": [
       "{'python': 2.7, 'plones': 5.1}"
      ]
     },
     "execution_count": 26,
     "metadata": {},
     "output_type": "execute_result"
    }
   ],
   "source": [
    "print(versiones.pop('zope'))\n",
    "versiones"
   ]
  },
  {
   "cell_type": "code",
   "execution_count": 27,
   "id": "8d620f3e",
   "metadata": {},
   "outputs": [
    {
     "name": "stdout",
     "output_type": "stream",
     "text": [
      "{'python': 2.7, 'zope': 2.13, 'plones': 5.1}\n"
     ]
    }
   ],
   "source": [
    "versiones = dict(python=2.7, zope=2.13, plones=5.1)\n",
    "print(versiones)"
   ]
  },
  {
   "cell_type": "code",
   "execution_count": 30,
   "id": "69c995f7",
   "metadata": {},
   "outputs": [
    {
     "name": "stdout",
     "output_type": "stream",
     "text": [
      "{'django': 2.1}\n"
     ]
    }
   ],
   "source": [
    "versiones_adicional = dict(django=2.1)\n",
    "print(versiones_adicional)"
   ]
  },
  {
   "cell_type": "code",
   "execution_count": 31,
   "id": "b0c2d29d",
   "metadata": {},
   "outputs": [
    {
     "name": "stdout",
     "output_type": "stream",
     "text": [
      "{'python': 2.7, 'zope': 2.13, 'plones': 5.1, 'django': 2.1}\n"
     ]
    }
   ],
   "source": [
    "versiones.update(versiones_adicional)\n",
    "print(versiones)"
   ]
  },
  {
   "cell_type": "code",
   "execution_count": 33,
   "id": "a88dad0b",
   "metadata": {},
   "outputs": [
    {
     "data": {
      "text/plain": [
       "3"
      ]
     },
     "execution_count": 33,
     "metadata": {},
     "output_type": "execute_result"
    }
   ],
   "source": [
    "versiones = dict(python=2.7, zope=2.13, plones=5.1)\n",
    "len(versiones)"
   ]
  },
  {
   "cell_type": "code",
   "execution_count": 34,
   "id": "2d6686b6",
   "metadata": {},
   "outputs": [
    {
     "name": "stdout",
     "output_type": "stream",
     "text": [
      "5\n"
     ]
    }
   ],
   "source": [
    "usuario = {\n",
    "    'nombre': 'nombre dej usuario',\n",
    "    'edad': 23,\n",
    "    'curso': 'curso de python',\n",
    "    'skills':{\n",
    "        'programacion': True,\n",
    "        'base_de_datos':False \n",
    "    },\n",
    "    'no medallas': 10\n",
    "}\n",
    "print(len(usuario))"
   ]
  },
  {
   "cell_type": "code",
   "execution_count": 35,
   "id": "78d592d8",
   "metadata": {},
   "outputs": [
    {
     "name": "stdout",
     "output_type": "stream",
     "text": [
      "{'python': 2.7, 'zope': 2.13, 'plones': 5.1, 'django': 2.1}\n"
     ]
    }
   ],
   "source": [
    "versiones = dict(python=2.7, zope=2.13, plones=5.1, django=2.1)\n",
    "print(versiones)"
   ]
  },
  {
   "cell_type": "code",
   "execution_count": 36,
   "id": "4ec1d6c6",
   "metadata": {},
   "outputs": [
    {
     "name": "stdout",
     "output_type": "stream",
     "text": [
      "{'zope': 2.13, 'plones': 5.1, 'django': 2.1}\n"
     ]
    }
   ],
   "source": [
    "del versiones['python']\n",
    "print(versiones)"
   ]
  },
  {
   "cell_type": "code",
   "execution_count": 37,
   "id": "47be90ee",
   "metadata": {},
   "outputs": [
    {
     "name": "stdout",
     "output_type": "stream",
     "text": [
      "{'alumno1': {'nombre': 'daniel', 'edad': 11, 'estatura': 1.75, 'grado': 'master'}, 'alumno2': {'nombre': 'david', 'edad': 32, 'estatura': 1.85, 'grado': 'doctor'}}\n"
     ]
    }
   ],
   "source": [
    "estudiantes = { 'alumno1': {'nombre': 'daniel', 'edad': 11, 'estatura': 1.75, 'grado': 'master'},\n",
    "                 'alumno2' :{'nombre': 'david', 'edad': 32, 'estatura': 1.85, 'grado': 'doctor'}  }\n",
    "\n",
    "print(estudiantes)"
   ]
  },
  {
   "cell_type": "code",
   "execution_count": 39,
   "id": "68c9dc10",
   "metadata": {},
   "outputs": [
    {
     "name": "stdout",
     "output_type": "stream",
     "text": [
      "los nombres son diferentes\n"
     ]
    }
   ],
   "source": [
    "if estudiantes['alumno1']['nombre'] == estudiantes['alumno2']['nombre']:\n",
    "    print('los estudiantes son iguales')\n",
    "else:\n",
    "    print('los nombres son diferentes')"
   ]
  },
  {
   "cell_type": "code",
   "execution_count": null,
   "id": "105633d7",
   "metadata": {},
   "outputs": [],
   "source": []
  }
 ],
 "metadata": {
  "kernelspec": {
   "display_name": "Python 3 (ipykernel)",
   "language": "python",
   "name": "python3"
  },
  "language_info": {
   "codemirror_mode": {
    "name": "ipython",
    "version": 3
   },
   "file_extension": ".py",
   "mimetype": "text/x-python",
   "name": "python",
   "nbconvert_exporter": "python",
   "pygments_lexer": "ipython3",
   "version": "3.9.12"
  }
 },
 "nbformat": 4,
 "nbformat_minor": 5
}
